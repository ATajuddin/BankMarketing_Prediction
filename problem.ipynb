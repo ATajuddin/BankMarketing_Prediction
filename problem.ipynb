{
 "cells": [
  {
   "cell_type": "code",
   "execution_count": 1,
   "id": "27f6da97",
   "metadata": {
    "_cell_guid": "b1076dfc-b9ad-4769-8c92-a6c4dae69d19",
    "_uuid": "8f2839f25d086af736a60e9eeb907d3b93b6e0e5",
    "execution": {
     "iopub.execute_input": "2022-05-18T18:46:38.724588Z",
     "iopub.status.busy": "2022-05-18T18:46:38.723704Z",
     "iopub.status.idle": "2022-05-18T18:46:38.746320Z",
     "shell.execute_reply": "2022-05-18T18:46:38.745331Z"
    },
    "papermill": {
     "duration": 0.039505,
     "end_time": "2022-05-18T18:46:38.748570",
     "exception": false,
     "start_time": "2022-05-18T18:46:38.709065",
     "status": "completed"
    },
    "tags": []
   },
   "outputs": [
    {
     "name": "stdout",
     "output_type": "stream",
     "text": [
      "/kaggle/input/bank-marketing-response-predict/submission.csv\n",
      "/kaggle/input/bank-marketing-response-predict/test_label.csv\n",
      "/kaggle/input/bank-marketing-response-predict/train.csv\n",
      "/kaggle/input/bank-marketing-response-predict/test.csv\n"
     ]
    }
   ],
   "source": [
    "# This Python 3 environment comes with many helpful analytics libraries installed\n",
    "# It is defined by the kaggle/python Docker image: https://github.com/kaggle/docker-python\n",
    "# For example, here's several helpful packages to load\n",
    "\n",
    "import numpy as np # linear algebra\n",
    "import pandas as pd # data processing, CSV file I/O (e.g. pd.read_csv)\n",
    "\n",
    "# Input data files are available in the read-only \"../input/\" directory\n",
    "# For example, running this (by clicking run or pressing Shift+Enter) will list all files under the input directory\n",
    "\n",
    "import os\n",
    "for dirname, _, filenames in os.walk('/kaggle/input'):\n",
    "    for filename in filenames:\n",
    "        print(os.path.join(dirname, filename))\n",
    "\n",
    "# You can write up to 20GB to the current directory (/kaggle/working/) that gets preserved as output when you create a version using \"Save & Run All\" \n",
    "# You can also write temporary files to /kaggle/temp/, but they won't be saved outside of the current session"
   ]
  },
  {
   "cell_type": "markdown",
   "id": "f5bff822",
   "metadata": {
    "papermill": {
     "duration": 0.011629,
     "end_time": "2022-05-18T18:46:38.772757",
     "exception": false,
     "start_time": "2022-05-18T18:46:38.761128",
     "status": "completed"
    },
    "tags": []
   },
   "source": [
    "# There are 10 Questions for EDA in train.csv"
   ]
  },
  {
   "cell_type": "code",
   "execution_count": 2,
   "id": "a834d59c",
   "metadata": {
    "execution": {
     "iopub.execute_input": "2022-05-18T18:46:38.798594Z",
     "iopub.status.busy": "2022-05-18T18:46:38.798259Z",
     "iopub.status.idle": "2022-05-18T18:46:38.848944Z",
     "shell.execute_reply": "2022-05-18T18:46:38.847981Z"
    },
    "papermill": {
     "duration": 0.066685,
     "end_time": "2022-05-18T18:46:38.851341",
     "exception": false,
     "start_time": "2022-05-18T18:46:38.784656",
     "status": "completed"
    },
    "tags": []
   },
   "outputs": [],
   "source": [
    "df = pd.read_csv('/kaggle/input/bank-marketing-response-predict/train.csv')"
   ]
  },
  {
   "cell_type": "markdown",
   "id": "c6b1d559",
   "metadata": {
    "papermill": {
     "duration": 0.011645,
     "end_time": "2022-05-18T18:46:38.875787",
     "exception": false,
     "start_time": "2022-05-18T18:46:38.864142",
     "status": "completed"
    },
    "tags": []
   },
   "source": [
    "# Question1\n",
    "- 마케팅 응답 고객들의 나이를 10살 단위로 변환 했을 때, 가장 많은 인원을 가진 나이대는? (0-9 : 0 , 10-19 : 10)\n",
    "- Marketing Response When converting the age of customers to a 10-year-old unit, which age group has the largest number of people? (0-9 : 0 , 10-19 : 10)"
   ]
  },
  {
   "cell_type": "markdown",
   "id": "c0a5daec",
   "metadata": {
    "papermill": {
     "duration": 0.011765,
     "end_time": "2022-05-18T18:46:38.899626",
     "exception": false,
     "start_time": "2022-05-18T18:46:38.887861",
     "status": "completed"
    },
    "tags": []
   },
   "source": [
    "# Question2\n",
    "- 마케팅 응답 고객들의 나이를 10살 단위로 변환 했을 때, 가장 많은 나이대 구간의 인원은 몇명인가?\n",
    "- When converting the age of marketing response customers to a 10-year unit, what is the number of people in the largest age section?"
   ]
  },
  {
   "cell_type": "markdown",
   "id": "109dee78",
   "metadata": {
    "papermill": {
     "duration": 0.011525,
     "end_time": "2022-05-18T18:46:38.923016",
     "exception": false,
     "start_time": "2022-05-18T18:46:38.911491",
     "status": "completed"
    },
    "tags": []
   },
   "source": [
    "# Question3\n",
    "- 나이가 25살 이상 29살 미만인 응답 고객들중 housing컬럼의 값이 yes인 고객의 수는?\n",
    "- The number of respondents who are greater than or equal to 25 years old and under 29 years old with a value of 'yes' in 'housing' column\n"
   ]
  },
  {
   "cell_type": "markdown",
   "id": "2a57f5c3",
   "metadata": {
    "papermill": {
     "duration": 0.011735,
     "end_time": "2022-05-18T18:46:38.946653",
     "exception": false,
     "start_time": "2022-05-18T18:46:38.934918",
     "status": "completed"
    },
    "tags": []
   },
   "source": [
    "# Question4\n",
    "- numeric한 값을 가지지 않은 컬럼들중 unique한 값을 가장 많이 가지는 컬럼은?\n",
    "- Which column has the most unique value among columns that do not have numeric values?"
   ]
  },
  {
   "cell_type": "markdown",
   "id": "f16ec07d",
   "metadata": {
    "papermill": {
     "duration": 0.013102,
     "end_time": "2022-05-18T18:46:38.971621",
     "exception": false,
     "start_time": "2022-05-18T18:46:38.958519",
     "status": "completed"
    },
    "tags": []
   },
   "source": [
    "# Question5\n",
    "- balance 컬럼값들의 평균값 이상을 가지는 데이터를 ID값을 기준으로 내림차순 정렬했을때 상위 100개 데이터의 balance값의 평균은?\n",
    "- What is the average of the balance values of the top 100 data when data having more than the average value of the balance column are sorted in descending order based on the ID value?"
   ]
  },
  {
   "cell_type": "markdown",
   "id": "055842e4",
   "metadata": {
    "papermill": {
     "duration": 0.01155,
     "end_time": "2022-05-18T18:46:38.996559",
     "exception": false,
     "start_time": "2022-05-18T18:46:38.985009",
     "status": "completed"
    },
    "tags": []
   },
   "source": [
    "# Question6\n",
    "- 가장 많은 광고를 집행했던 날짜는 언제인가? (데이터 그대로 일(숫자),달(영문)으로 표기)\n",
    "- When did you run the most ads?"
   ]
  },
  {
   "cell_type": "markdown",
   "id": "f9918f89",
   "metadata": {
    "papermill": {
     "duration": 0.011391,
     "end_time": "2022-05-18T18:46:39.019912",
     "exception": false,
     "start_time": "2022-05-18T18:46:39.008521",
     "status": "completed"
    },
    "tags": []
   },
   "source": [
    "# Question7\n",
    "- 데이터의 job이 unknown 상태인 고객들의 age 컬럼 값의 정규성을 검정하고자 한다. 샤피로 검정의 p-value값을 구하여라\n",
    "- It is intended to test the normality of the age column value of customers whose data job is unknown. Find the p-value of the Shapiro test"
   ]
  },
  {
   "cell_type": "markdown",
   "id": "691940fc",
   "metadata": {
    "papermill": {
     "duration": 0.011601,
     "end_time": "2022-05-18T18:46:39.043631",
     "exception": false,
     "start_time": "2022-05-18T18:46:39.032030",
     "status": "completed"
    },
    "tags": []
   },
   "source": [
    "# Question8 \n",
    "- age와 balance의 상관계수를 구하여라\n",
    "- Find the correlation coefficient between age and balance columns"
   ]
  },
  {
   "cell_type": "markdown",
   "id": "1b9323cb",
   "metadata": {
    "papermill": {
     "duration": 0.011406,
     "end_time": "2022-05-18T18:46:39.066679",
     "exception": false,
     "start_time": "2022-05-18T18:46:39.055273",
     "status": "completed"
    },
    "tags": []
   },
   "source": [
    "# Question9\n",
    "- y 변수와 education 변수는 독립인지 카이제곱검정을 통해 확인하려한다. p-value값을 출력하라\n",
    "- It will check whether the y variable and the education variable are independent through a chi-square test. Print the p-value value"
   ]
  },
  {
   "cell_type": "markdown",
   "id": "5c30190c",
   "metadata": {
    "papermill": {
     "duration": 0.011488,
     "end_time": "2022-05-18T18:46:39.089878",
     "exception": false,
     "start_time": "2022-05-18T18:46:39.078390",
     "status": "completed"
    },
    "tags": []
   },
   "source": [
    "# Question10\n",
    "- 각 job에 따라 divorced/married 인원의 비율을 확인 했을 때 그 값이 가장 높은 값은?\n",
    "- When checking the proportion of distributed/married people according to each job, what is the highest ratio?"
   ]
  },
  {
   "cell_type": "markdown",
   "id": "3f64cb8c",
   "metadata": {
    "papermill": {
     "duration": 0.011426,
     "end_time": "2022-05-18T18:46:39.113033",
     "exception": false,
     "start_time": "2022-05-18T18:46:39.101607",
     "status": "completed"
    },
    "tags": []
   },
   "source": [
    "# modeling"
   ]
  },
  {
   "cell_type": "code",
   "execution_count": 3,
   "id": "06c5cb0c",
   "metadata": {
    "execution": {
     "iopub.execute_input": "2022-05-18T18:46:39.138571Z",
     "iopub.status.busy": "2022-05-18T18:46:39.138002Z",
     "iopub.status.idle": "2022-05-18T18:46:39.200235Z",
     "shell.execute_reply": "2022-05-18T18:46:39.199348Z"
    },
    "papermill": {
     "duration": 0.077955,
     "end_time": "2022-05-18T18:46:39.202717",
     "exception": false,
     "start_time": "2022-05-18T18:46:39.124762",
     "status": "completed"
    },
    "tags": []
   },
   "outputs": [],
   "source": [
    "train =pd.read_csv('/kaggle/input/bank-marketing-response-predict/train.csv')\n",
    "test =pd.read_csv('/kaggle/input/bank-marketing-response-predict/test.csv')\n",
    "submission =pd.read_csv('/kaggle/input/bank-marketing-response-predict/submission.csv')\n",
    "\n",
    "# predict \"y\" columns, \"yes\" if true, metrics to ROC score"
   ]
  }
 ],
 "metadata": {
  "kernelspec": {
   "display_name": "Python 3",
   "language": "python",
   "name": "python3"
  },
  "language_info": {
   "codemirror_mode": {
    "name": "ipython",
    "version": 3
   },
   "file_extension": ".py",
   "mimetype": "text/x-python",
   "name": "python",
   "nbconvert_exporter": "python",
   "pygments_lexer": "ipython3",
   "version": "3.7.12"
  },
  "papermill": {
   "default_parameters": {},
   "duration": 11.22232,
   "end_time": "2022-05-18T18:46:39.836950",
   "environment_variables": {},
   "exception": null,
   "input_path": "__notebook__.ipynb",
   "output_path": "__notebook__.ipynb",
   "parameters": {},
   "start_time": "2022-05-18T18:46:28.614630",
   "version": "2.3.4"
  }
 },
 "nbformat": 4,
 "nbformat_minor": 5
}
