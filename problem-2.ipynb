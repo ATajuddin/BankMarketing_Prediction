{
 "cells": [
  {
   "cell_type": "code",
   "execution_count": 1,
   "id": "bdc2c7a9",
   "metadata": {
    "_cell_guid": "b1076dfc-b9ad-4769-8c92-a6c4dae69d19",
    "_uuid": "8f2839f25d086af736a60e9eeb907d3b93b6e0e5",
    "execution": {
     "iopub.execute_input": "2022-05-19T06:30:52.600928Z",
     "iopub.status.busy": "2022-05-19T06:30:52.600405Z",
     "iopub.status.idle": "2022-05-19T06:30:52.623720Z",
     "shell.execute_reply": "2022-05-19T06:30:52.622334Z"
    },
    "papermill": {
     "duration": 0.053238,
     "end_time": "2022-05-19T06:30:52.626503",
     "exception": false,
     "start_time": "2022-05-19T06:30:52.573265",
     "status": "completed"
    },
    "tags": []
   },
   "outputs": [
    {
     "name": "stdout",
     "output_type": "stream",
     "text": [
      "/kaggle/input/bank-marketing-response-predict/submission.csv\n",
      "/kaggle/input/bank-marketing-response-predict/test_label.csv\n",
      "/kaggle/input/bank-marketing-response-predict/train.csv\n",
      "/kaggle/input/bank-marketing-response-predict/test.csv\n"
     ]
    }
   ],
   "source": [
    "# This Python 3 environment comes with many helpful analytics libraries installed\n",
    "# It is defined by the kaggle/python Docker image: https://github.com/kaggle/docker-python\n",
    "# For example, here's several helpful packages to load\n",
    "\n",
    "import numpy as np # linear algebra\n",
    "import pandas as pd # data processing, CSV file I/O (e.g. pd.read_csv)\n",
    "\n",
    "# Input data files are available in the read-only \"../input/\" directory\n",
    "# For example, running this (by clicking run or pressing Shift+Enter) will list all files under the input directory\n",
    "\n",
    "import os\n",
    "for dirname, _, filenames in os.walk('/kaggle/input'):\n",
    "    for filename in filenames:\n",
    "        print(os.path.join(dirname, filename))\n",
    "\n",
    "# You can write up to 20GB to the current directory (/kaggle/working/) that gets preserved as output when you create a version using \"Save & Run All\" \n",
    "# You can also write temporary files to /kaggle/temp/, but they won't be saved outside of the current session"
   ]
  },
  {
   "cell_type": "markdown",
   "id": "ea9392ec",
   "metadata": {
    "papermill": {
     "duration": 0.023724,
     "end_time": "2022-05-19T06:30:52.675900",
     "exception": false,
     "start_time": "2022-05-19T06:30:52.652176",
     "status": "completed"
    },
    "tags": []
   },
   "source": [
    "# There are 10 Questions for EDA in train.csv"
   ]
  },
  {
   "cell_type": "code",
   "execution_count": 2,
   "id": "abe7d304",
   "metadata": {
    "execution": {
     "iopub.execute_input": "2022-05-19T06:30:52.726132Z",
     "iopub.status.busy": "2022-05-19T06:30:52.725832Z",
     "iopub.status.idle": "2022-05-19T06:30:52.787816Z",
     "shell.execute_reply": "2022-05-19T06:30:52.786779Z"
    },
    "papermill": {
     "duration": 0.089672,
     "end_time": "2022-05-19T06:30:52.790673",
     "exception": false,
     "start_time": "2022-05-19T06:30:52.701001",
     "status": "completed"
    },
    "tags": []
   },
   "outputs": [],
   "source": [
    "df = pd.read_csv('/kaggle/input/bank-marketing-response-predict/train.csv')"
   ]
  },
  {
   "cell_type": "markdown",
   "id": "921650d1",
   "metadata": {
    "papermill": {
     "duration": 0.023204,
     "end_time": "2022-05-19T06:30:52.838103",
     "exception": false,
     "start_time": "2022-05-19T06:30:52.814899",
     "status": "completed"
    },
    "tags": []
   },
   "source": [
    "# Question1\n",
    "- 마케팅 응답 고객들의 나이를 10살 단위로 변환 했을 때, 가장 많은 인원을 가진 나이대는? (0-9 : 0 , 10-19 : 10)\n",
    "- Marketing Response When converting the age of customers to a 10-year-old unit, which age group has the largest number of people? (0-9 : 0 , 10-19 : 10)"
   ]
  },
  {
   "cell_type": "code",
   "execution_count": 3,
   "id": "98960dd3",
   "metadata": {
    "execution": {
     "iopub.execute_input": "2022-05-19T06:30:52.888955Z",
     "iopub.status.busy": "2022-05-19T06:30:52.888612Z",
     "iopub.status.idle": "2022-05-19T06:30:53.095386Z",
     "shell.execute_reply": "2022-05-19T06:30:53.094253Z"
    },
    "papermill": {
     "duration": 0.235753,
     "end_time": "2022-05-19T06:30:53.097801",
     "exception": false,
     "start_time": "2022-05-19T06:30:52.862048",
     "status": "completed"
    },
    "tags": []
   },
   "outputs": [
    {
     "name": "stdout",
     "output_type": "stream",
     "text": [
      "30\n"
     ]
    }
   ],
   "source": [
    "import pandas as pd\n",
    "data = 'https://raw.githubusercontent.com/Datamanim/datarepo/main/bank/train.csv'\n",
    "df = pd.read_csv(data)\n",
    "df['newage'] = df.age//10*10\n",
    "ans = df['newage'].value_counts().index[0]\n",
    "print(ans)"
   ]
  },
  {
   "cell_type": "markdown",
   "id": "9485d175",
   "metadata": {
    "papermill": {
     "duration": 0.025804,
     "end_time": "2022-05-19T06:30:53.148447",
     "exception": false,
     "start_time": "2022-05-19T06:30:53.122643",
     "status": "completed"
    },
    "tags": []
   },
   "source": []
  },
  {
   "cell_type": "markdown",
   "id": "bc4c7d48",
   "metadata": {
    "papermill": {
     "duration": 0.023349,
     "end_time": "2022-05-19T06:30:53.198054",
     "exception": false,
     "start_time": "2022-05-19T06:30:53.174705",
     "status": "completed"
    },
    "tags": []
   },
   "source": [
    "# Question2\n",
    "- 마케팅 응답 고객들의 나이를 10살 단위로 변환 했을 때, 가장 많은 나이대 구간의 인원은 몇명인가?\n",
    "- When converting the age of marketing response customers to a 10-year unit, what is the number of people in the largest age section?"
   ]
  },
  {
   "cell_type": "code",
   "execution_count": 4,
   "id": "b19b7c92",
   "metadata": {
    "execution": {
     "iopub.execute_input": "2022-05-19T06:30:53.249126Z",
     "iopub.status.busy": "2022-05-19T06:30:53.248027Z",
     "iopub.status.idle": "2022-05-19T06:30:53.436055Z",
     "shell.execute_reply": "2022-05-19T06:30:53.434598Z"
    },
    "papermill": {
     "duration": 0.215723,
     "end_time": "2022-05-19T06:30:53.438469",
     "exception": false,
     "start_time": "2022-05-19T06:30:53.222746",
     "status": "completed"
    },
    "tags": []
   },
   "outputs": [
    {
     "name": "stdout",
     "output_type": "stream",
     "text": [
      "5056\n"
     ]
    }
   ],
   "source": [
    "import pandas as pd\n",
    "data = 'https://raw.githubusercontent.com/Datamanim/datarepo/main/bank/train.csv'\n",
    "df = pd.read_csv(data)\n",
    "df['newage'] = df.age//10*10\n",
    "ans = df['newage'].value_counts().index[0]\n",
    "ans = df.groupby(['newage'], as_index = True).size().max()\n",
    "print(ans)"
   ]
  },
  {
   "cell_type": "markdown",
   "id": "e5db1bed",
   "metadata": {
    "papermill": {
     "duration": 0.025424,
     "end_time": "2022-05-19T06:30:53.491812",
     "exception": false,
     "start_time": "2022-05-19T06:30:53.466388",
     "status": "completed"
    },
    "tags": []
   },
   "source": [
    "# Question3\n",
    "- 나이가 25살 이상 29살 미만인 응답 고객들중 housing컬럼의 값이 yes인 고객의 수는?\n",
    "- The number of respondents who are greater than or equal to 25 years old and under 29 years old with a value of 'yes' in 'housing' column\n"
   ]
  },
  {
   "cell_type": "code",
   "execution_count": 5,
   "id": "9830fadd",
   "metadata": {
    "execution": {
     "iopub.execute_input": "2022-05-19T06:30:53.545384Z",
     "iopub.status.busy": "2022-05-19T06:30:53.544857Z",
     "iopub.status.idle": "2022-05-19T06:30:53.732438Z",
     "shell.execute_reply": "2022-05-19T06:30:53.731007Z"
    },
    "papermill": {
     "duration": 0.217533,
     "end_time": "2022-05-19T06:30:53.734977",
     "exception": false,
     "start_time": "2022-05-19T06:30:53.517444",
     "status": "completed"
    },
    "tags": []
   },
   "outputs": [
    {
     "name": "stdout",
     "output_type": "stream",
     "text": [
      "504\n"
     ]
    }
   ],
   "source": [
    "import pandas as pd\n",
    "data = 'https://raw.githubusercontent.com/Datamanim/datarepo/main/bank/train.csv'\n",
    "df = pd.read_csv(data)\n",
    "df['newage'] = df.age//10*10\n",
    "ans = df['newage'].value_counts().index[0]\n",
    "ans = df.groupby(['newage'], as_index = True).size().max()\n",
    "ans = df[(df.age >= 25) & (df.age < 29) & (df.housing == 'yes')]\n",
    "print(len(ans))"
   ]
  },
  {
   "cell_type": "markdown",
   "id": "92991691",
   "metadata": {
    "papermill": {
     "duration": 0.024582,
     "end_time": "2022-05-19T06:30:53.784721",
     "exception": false,
     "start_time": "2022-05-19T06:30:53.760139",
     "status": "completed"
    },
    "tags": []
   },
   "source": [
    "# Question4\n",
    "- numeric한 값을 가지지 않은 컬럼들중 unique한 값을 가장 많이 가지는 컬럼은?\n",
    "- Which column has the most unique value among columns that do not have numeric values?"
   ]
  },
  {
   "cell_type": "code",
   "execution_count": 6,
   "id": "468099f2",
   "metadata": {
    "execution": {
     "iopub.execute_input": "2022-05-19T06:30:53.838254Z",
     "iopub.status.busy": "2022-05-19T06:30:53.837298Z",
     "iopub.status.idle": "2022-05-19T06:30:54.049626Z",
     "shell.execute_reply": "2022-05-19T06:30:54.048705Z"
    },
    "papermill": {
     "duration": 0.24125,
     "end_time": "2022-05-19T06:30:54.052146",
     "exception": false,
     "start_time": "2022-05-19T06:30:53.810896",
     "status": "completed"
    },
    "tags": []
   },
   "outputs": [
    {
     "name": "stdout",
     "output_type": "stream",
     "text": [
      "job\n"
     ]
    }
   ],
   "source": [
    "import pandas as pd\n",
    "data = 'https://raw.githubusercontent.com/Datamanim/datarepo/main/bank/train.csv'\n",
    "df = pd.read_csv(data)\n",
    "df['newage'] = df.age//10*10\n",
    "ans = df['newage'].value_counts().index[0]\n",
    "ans = df.groupby(['newage'], as_index = True).size().max()\n",
    "ans = df[(df.age >= 25) & (df.age < 29) & (df.housing == 'yes')]\n",
    "ans = 0\n",
    "sec = ''\n",
    "for _ in df.select_dtypes(include = object).columns:\n",
    "    if df[_].nunique() > ans:\n",
    "        ans = df[_].nunique()\n",
    "        sec = _\n",
    "print(sec)"
   ]
  },
  {
   "cell_type": "markdown",
   "id": "a7e05910",
   "metadata": {
    "papermill": {
     "duration": 0.026667,
     "end_time": "2022-05-19T06:30:54.103726",
     "exception": false,
     "start_time": "2022-05-19T06:30:54.077059",
     "status": "completed"
    },
    "tags": []
   },
   "source": [
    "# Question5\n",
    "- balance 컬럼값들의 평균값 이상을 가지는 데이터를 ID값을 기준으로 내림차순 정렬했을때 상위 100개 데이터의 balance값의 평균은?\n",
    "- What is the average of the balance values of the top 100 data when data having more than the average value of the balance column are sorted in descending order based on the ID value?"
   ]
  },
  {
   "cell_type": "code",
   "execution_count": 7,
   "id": "e39a8af4",
   "metadata": {
    "execution": {
     "iopub.execute_input": "2022-05-19T06:30:54.160141Z",
     "iopub.status.busy": "2022-05-19T06:30:54.159532Z",
     "iopub.status.idle": "2022-05-19T06:30:54.376509Z",
     "shell.execute_reply": "2022-05-19T06:30:54.375081Z"
    },
    "papermill": {
     "duration": 0.249595,
     "end_time": "2022-05-19T06:30:54.379989",
     "exception": false,
     "start_time": "2022-05-19T06:30:54.130394",
     "status": "completed"
    },
    "tags": []
   },
   "outputs": [
    {
     "name": "stdout",
     "output_type": "stream",
     "text": [
      "3477.5252525252527\n"
     ]
    }
   ],
   "source": [
    "import pandas as pd\n",
    "data = 'https://raw.githubusercontent.com/Datamanim/datarepo/main/bank/train.csv'\n",
    "df = pd.read_csv(data)\n",
    "df['newage'] = df.age//10*10\n",
    "ans = df['newage'].value_counts().index[0]\n",
    "ans = df.groupby(['newage'], as_index = True).size().max()\n",
    "ans = df[(df.age >= 25) & (df.age < 29) & (df.housing == 'yes')]\n",
    "ans = 0\n",
    "sec = ''\n",
    "for _ in df.select_dtypes(include = object).columns:\n",
    "    if df[_].nunique() > ans:\n",
    "        ans = df[_].nunique()\n",
    "        sec = _\n",
    "ans = df[(df['balance'] >= df.balance.mean())].\\\n",
    "      sort_values('ID', ascending = False)[0:99].balance.mean()\n",
    "print(ans)"
   ]
  },
  {
   "cell_type": "markdown",
   "id": "faff8f82",
   "metadata": {
    "papermill": {
     "duration": 0.026814,
     "end_time": "2022-05-19T06:30:54.433863",
     "exception": false,
     "start_time": "2022-05-19T06:30:54.407049",
     "status": "completed"
    },
    "tags": []
   },
   "source": [
    "# Question6\n",
    "- 가장 많은 광고를 집행했던 날짜는 언제인가? (데이터 그대로 일(숫자),달(영문)으로 표기)\n",
    "- When did you run the most ads?"
   ]
  },
  {
   "cell_type": "code",
   "execution_count": 8,
   "id": "64c6292d",
   "metadata": {
    "execution": {
     "iopub.execute_input": "2022-05-19T06:30:54.491530Z",
     "iopub.status.busy": "2022-05-19T06:30:54.490643Z",
     "iopub.status.idle": "2022-05-19T06:30:54.723642Z",
     "shell.execute_reply": "2022-05-19T06:30:54.721767Z"
    },
    "papermill": {
     "duration": 0.266307,
     "end_time": "2022-05-19T06:30:54.726290",
     "exception": false,
     "start_time": "2022-05-19T06:30:54.459983",
     "status": "completed"
    },
    "tags": []
   },
   "outputs": [
    {
     "name": "stdout",
     "output_type": "stream",
     "text": [
      "15may\n"
     ]
    }
   ],
   "source": [
    "import pandas as pd\n",
    "data = 'https://raw.githubusercontent.com/Datamanim/datarepo/main/bank/train.csv'\n",
    "df = pd.read_csv(data)\n",
    "df['newage'] = df.age//10*10\n",
    "ans = df['newage'].value_counts().index[0]\n",
    "ans = df.groupby(['newage'], as_index = True).size().max()\n",
    "ans = df[(df.age >= 25) & (df.age < 29) & (df.housing == 'yes')]\n",
    "ans = 0\n",
    "sec = ''\n",
    "for _ in df.select_dtypes(include = object).columns:\n",
    "    if df[_].nunique() > ans:\n",
    "        ans = df[_].nunique()\n",
    "        sec = _\n",
    "ans = df[(df['balance'] >= df.balance.mean())].\\\n",
    "      sort_values('ID', ascending = False)[0:99].balance.mean()\n",
    "ans = df.day.astype(str) + df.month\n",
    "print(ans.value_counts().index[0])"
   ]
  },
  {
   "cell_type": "markdown",
   "id": "d374d5cb",
   "metadata": {
    "papermill": {
     "duration": 0.026477,
     "end_time": "2022-05-19T06:30:54.778591",
     "exception": false,
     "start_time": "2022-05-19T06:30:54.752114",
     "status": "completed"
    },
    "tags": []
   },
   "source": [
    "# Question7\n",
    "- 데이터의 job이 unknown 상태인 고객들의 age 컬럼 값의 정규성을 검정하고자 한다. 샤피로 검정의 p-value값을 구하여라\n",
    "- It is intended to test the normality of the age column value of customers whose data job is unknown. Find the p-value of the Shapiro test"
   ]
  },
  {
   "cell_type": "code",
   "execution_count": 9,
   "id": "6e5aab85",
   "metadata": {
    "execution": {
     "iopub.execute_input": "2022-05-19T06:30:54.832879Z",
     "iopub.status.busy": "2022-05-19T06:30:54.832591Z",
     "iopub.status.idle": "2022-05-19T06:30:56.133079Z",
     "shell.execute_reply": "2022-05-19T06:30:56.132037Z"
    },
    "papermill": {
     "duration": 1.331549,
     "end_time": "2022-05-19T06:30:56.135879",
     "exception": false,
     "start_time": "2022-05-19T06:30:54.804330",
     "status": "completed"
    },
    "tags": []
   },
   "outputs": [
    {
     "name": "stdout",
     "output_type": "stream",
     "text": [
      "0.1961131989955902\n"
     ]
    }
   ],
   "source": [
    "import pandas as pd\n",
    "data = 'https://raw.githubusercontent.com/Datamanim/datarepo/main/bank/train.csv'\n",
    "df = pd.read_csv(data)\n",
    "df['newage'] = df.age//10*10\n",
    "ans = df['newage'].value_counts().index[0]\n",
    "ans = df.groupby(['newage'], as_index = True).size().max()\n",
    "ans = df[(df.age >= 25) & (df.age < 29) & (df.housing == 'yes')]\n",
    "ans = 0\n",
    "sec = ''\n",
    "for _ in df.select_dtypes(include = object).columns:\n",
    "    if df[_].nunique() > ans:\n",
    "        ans = df[_].nunique()\n",
    "        sec = _\n",
    "ans = df[(df['balance'] >= df.balance.mean())].\\\n",
    "      sort_values('ID', ascending = False)[0:99].balance.mean()\n",
    "ans = df.day.astype(str) + df.month\n",
    "ans = df[df['job'] == 'unknown']\n",
    "from scipy.stats import shapiro\n",
    "newans = shapiro(ans.age)[1]\n",
    "print(newans)"
   ]
  },
  {
   "cell_type": "markdown",
   "id": "f401d5f8",
   "metadata": {
    "papermill": {
     "duration": 0.0276,
     "end_time": "2022-05-19T06:30:56.190120",
     "exception": false,
     "start_time": "2022-05-19T06:30:56.162520",
     "status": "completed"
    },
    "tags": []
   },
   "source": [
    "# Question8 \n",
    "- age와 balance의 상관계수를 구하여라\n",
    "- Find the correlation coefficient between age and balance columns"
   ]
  },
  {
   "cell_type": "code",
   "execution_count": 10,
   "id": "9a20349d",
   "metadata": {
    "execution": {
     "iopub.execute_input": "2022-05-19T06:30:56.246946Z",
     "iopub.status.busy": "2022-05-19T06:30:56.246113Z",
     "iopub.status.idle": "2022-05-19T06:30:56.489668Z",
     "shell.execute_reply": "2022-05-19T06:30:56.488652Z"
    },
    "papermill": {
     "duration": 0.276524,
     "end_time": "2022-05-19T06:30:56.493541",
     "exception": false,
     "start_time": "2022-05-19T06:30:56.217017",
     "status": "completed"
    },
    "tags": []
   },
   "outputs": [
    {
     "name": "stdout",
     "output_type": "stream",
     "text": [
      "0.10198734763981504\n"
     ]
    }
   ],
   "source": [
    "import pandas as pd\n",
    "data = 'https://raw.githubusercontent.com/Datamanim/datarepo/main/bank/train.csv'\n",
    "df = pd.read_csv(data)\n",
    "df['newage'] = df.age//10*10\n",
    "ans = df['newage'].value_counts().index[0]\n",
    "ans = df.groupby(['newage'], as_index = True).size().max()\n",
    "ans = df[(df.age >= 25) & (df.age < 29) & (df.housing == 'yes')]\n",
    "ans = 0\n",
    "sec = ''\n",
    "for _ in df.select_dtypes(include = object).columns:\n",
    "    if df[_].nunique() > ans:\n",
    "        ans = df[_].nunique()\n",
    "        sec = _\n",
    "ans = df[(df['balance'] >= df.balance.mean())].\\\n",
    "      sort_values('ID', ascending = False)[0:99].balance.mean()\n",
    "ans = df.day.astype(str) + df.month\n",
    "ans = df[df['job'] == 'unknown']\n",
    "from scipy.stats import shapiro\n",
    "newans = shapiro(ans.age)[1]\n",
    "import numpy as np\n",
    "print(np.corrcoef(df.age,df.balance)[0, 1])"
   ]
  },
  {
   "cell_type": "markdown",
   "id": "601885ff",
   "metadata": {
    "papermill": {
     "duration": 0.026747,
     "end_time": "2022-05-19T06:30:56.548304",
     "exception": false,
     "start_time": "2022-05-19T06:30:56.521557",
     "status": "completed"
    },
    "tags": []
   },
   "source": [
    "# Question9\n",
    "- y 변수와 education 변수는 독립인지 카이제곱검정을 통해 확인하려한다. p-value값을 출력하라\n",
    "- It will check whether the y variable and the education variable are independent through a chi-square test. Print the p-value value"
   ]
  },
  {
   "cell_type": "code",
   "execution_count": 11,
   "id": "134c8131",
   "metadata": {
    "execution": {
     "iopub.execute_input": "2022-05-19T06:30:56.605142Z",
     "iopub.status.busy": "2022-05-19T06:30:56.604830Z",
     "iopub.status.idle": "2022-05-19T06:30:56.868297Z",
     "shell.execute_reply": "2022-05-19T06:30:56.867003Z"
    },
    "papermill": {
     "duration": 0.295837,
     "end_time": "2022-05-19T06:30:56.870941",
     "exception": false,
     "start_time": "2022-05-19T06:30:56.575104",
     "status": "completed"
    },
    "tags": []
   },
   "outputs": [
    {
     "name": "stdout",
     "output_type": "stream",
     "text": [
      "7.901201277473551e-29\n"
     ]
    }
   ],
   "source": [
    "import pandas as pd\n",
    "data = 'https://raw.githubusercontent.com/Datamanim/datarepo/main/bank/train.csv'\n",
    "df = pd.read_csv(data)\n",
    "df['newage'] = df.age//10*10\n",
    "ans = df['newage'].value_counts().index[0]\n",
    "ans = df.groupby(['newage'], as_index = True).size().max()\n",
    "ans = df[(df.age >= 25) & (df.age < 29) & (df.housing == 'yes')]\n",
    "ans = 0\n",
    "sec = ''\n",
    "for _ in df.select_dtypes(include = object).columns:\n",
    "    if df[_].nunique() > ans:\n",
    "        ans = df[_].nunique()\n",
    "        sec = _\n",
    "ans = df[(df['balance'] >= df.balance.mean())].\\\n",
    "      sort_values('ID', ascending = False)[0:99].balance.mean()\n",
    "ans = df.day.astype(str) + df.month\n",
    "ans = df[df['job'] == 'unknown']\n",
    "from scipy.stats import shapiro\n",
    "newans = shapiro(ans.age)[1]\n",
    "import numpy as np\n",
    "cdf = pd.crosstab(df['y'], df['education'])\n",
    "#print(cdf)\n",
    "from scipy.stats import chi2_contingency\n",
    "#print(chi2_contingency(cdf))\n",
    "chi2 , p ,dof, expected = chi2_contingency(cdf)\n",
    "print(p)"
   ]
  },
  {
   "cell_type": "markdown",
   "id": "4a9fd5c3",
   "metadata": {
    "papermill": {
     "duration": 0.026883,
     "end_time": "2022-05-19T06:30:56.925931",
     "exception": false,
     "start_time": "2022-05-19T06:30:56.899048",
     "status": "completed"
    },
    "tags": []
   },
   "source": [
    "# Question10\n",
    "- 각 job에 따라 divorced/married 인원의 비율을 확인 했을 때 그 값이 가장 높은 값은?\n",
    "- When checking the proportion of distributed/married people according to each job, what is the highest ratio?"
   ]
  },
  {
   "cell_type": "code",
   "execution_count": 12,
   "id": "d72c44fe",
   "metadata": {
    "execution": {
     "iopub.execute_input": "2022-05-19T06:30:56.984802Z",
     "iopub.status.busy": "2022-05-19T06:30:56.984494Z",
     "iopub.status.idle": "2022-05-19T06:30:57.255739Z",
     "shell.execute_reply": "2022-05-19T06:30:57.254432Z"
    },
    "papermill": {
     "duration": 0.305987,
     "end_time": "2022-05-19T06:30:57.258257",
     "exception": false,
     "start_time": "2022-05-19T06:30:56.952270",
     "status": "completed"
    },
    "tags": []
   },
   "outputs": [
    {
     "name": "stdout",
     "output_type": "stream",
     "text": [
      "0.2831050228310502\n"
     ]
    }
   ],
   "source": [
    "import pandas as pd\n",
    "data = 'https://raw.githubusercontent.com/Datamanim/datarepo/main/bank/train.csv'\n",
    "df = pd.read_csv(data)\n",
    "df['newage'] = df.age//10*10\n",
    "ans = df['newage'].value_counts().index[0]\n",
    "ans = df.groupby(['newage'], as_index = True).size().max()\n",
    "ans = df[(df.age >= 25) & (df.age < 29) & (df.housing == 'yes')]\n",
    "ans = 0\n",
    "sec = ''\n",
    "for _ in df.select_dtypes(include = object).columns:\n",
    "    if df[_].nunique() > ans:\n",
    "        ans = df[_].nunique()\n",
    "        sec = _\n",
    "ans = df[(df['balance'] >= df.balance.mean())].\\\n",
    "      sort_values('ID', ascending = False)[0:99].balance.mean()\n",
    "ans = df.day.astype(str) + df.month\n",
    "ans = df[df['job'] == 'unknown']\n",
    "from scipy.stats import shapiro\n",
    "newans = shapiro(ans.age)[1]\n",
    "import numpy as np\n",
    "cdf = pd.crosstab(df['y'], df['education'])\n",
    "#print(cdf)\n",
    "from scipy.stats import chi2_contingency\n",
    "#print(chi2_contingency(cdf))\n",
    "chi2 , p ,dof, expected = chi2_contingency(cdf)\n",
    "#10 각 job에 따라 divorced/married 인원의 비율을 확인 했을 때 그 값이 가장 높은 값은?\n",
    "ans = df.groupby(['job', 'marital']).size().reset_index()\n",
    "#print(ans)\n",
    "pivotdf = ans.pivot_table(index = 'job', columns = 'marital')[0]\n",
    "pivotdf = pivotdf.fillna(0)\n",
    "pivotdf['ratio'] = pivotdf['divorced'] / pivotdf['married']\n",
    "print(pivotdf.sort_values('ratio').ratio.values[-1])"
   ]
  },
  {
   "cell_type": "markdown",
   "id": "1e75e82f",
   "metadata": {
    "papermill": {
     "duration": 0.029553,
     "end_time": "2022-05-19T06:30:57.317486",
     "exception": false,
     "start_time": "2022-05-19T06:30:57.287933",
     "status": "completed"
    },
    "tags": []
   },
   "source": [
    "# modeling"
   ]
  },
  {
   "cell_type": "code",
   "execution_count": 13,
   "id": "902b02e2",
   "metadata": {
    "execution": {
     "iopub.execute_input": "2022-05-19T06:30:57.375865Z",
     "iopub.status.busy": "2022-05-19T06:30:57.375520Z",
     "iopub.status.idle": "2022-05-19T06:30:57.440962Z",
     "shell.execute_reply": "2022-05-19T06:30:57.439849Z"
    },
    "papermill": {
     "duration": 0.09758,
     "end_time": "2022-05-19T06:30:57.444830",
     "exception": false,
     "start_time": "2022-05-19T06:30:57.347250",
     "status": "completed"
    },
    "tags": []
   },
   "outputs": [],
   "source": [
    "train =pd.read_csv('/kaggle/input/bank-marketing-response-predict/train.csv')\n",
    "test =pd.read_csv('/kaggle/input/bank-marketing-response-predict/test.csv')\n",
    "submission =pd.read_csv('/kaggle/input/bank-marketing-response-predict/submission.csv')\n",
    "\n",
    "# predict \"y\" columns, \"yes\" if true, metrics to ROC score"
   ]
  }
 ],
 "metadata": {
  "kernelspec": {
   "display_name": "Python 3",
   "language": "python",
   "name": "python3"
  },
  "language_info": {
   "codemirror_mode": {
    "name": "ipython",
    "version": 3
   },
   "file_extension": ".py",
   "mimetype": "text/x-python",
   "name": "python",
   "nbconvert_exporter": "python",
   "pygments_lexer": "ipython3",
   "version": "3.7.12"
  },
  "papermill": {
   "default_parameters": {},
   "duration": 18.365157,
   "end_time": "2022-05-19T06:30:58.301707",
   "environment_variables": {},
   "exception": null,
   "input_path": "__notebook__.ipynb",
   "output_path": "__notebook__.ipynb",
   "parameters": {},
   "start_time": "2022-05-19T06:30:39.936550",
   "version": "2.3.4"
  }
 },
 "nbformat": 4,
 "nbformat_minor": 5
}
