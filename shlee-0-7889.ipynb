{
 "cells": [
  {
   "cell_type": "code",
   "execution_count": 1,
   "id": "b02a6ccd",
   "metadata": {
    "_cell_guid": "b1076dfc-b9ad-4769-8c92-a6c4dae69d19",
    "_uuid": "8f2839f25d086af736a60e9eeb907d3b93b6e0e5",
    "execution": {
     "iopub.execute_input": "2022-05-29T06:09:02.075636Z",
     "iopub.status.busy": "2022-05-29T06:09:02.075302Z",
     "iopub.status.idle": "2022-05-29T06:09:02.094854Z",
     "shell.execute_reply": "2022-05-29T06:09:02.093989Z"
    },
    "papermill": {
     "duration": 0.056664,
     "end_time": "2022-05-29T06:09:02.097121",
     "exception": false,
     "start_time": "2022-05-29T06:09:02.040457",
     "status": "completed"
    },
    "tags": []
   },
   "outputs": [
    {
     "name": "stdout",
     "output_type": "stream",
     "text": [
      "/kaggle/input/bank-marketing-response-predict/submission.csv\n",
      "/kaggle/input/bank-marketing-response-predict/test_label.csv\n",
      "/kaggle/input/bank-marketing-response-predict/train.csv\n",
      "/kaggle/input/bank-marketing-response-predict/test.csv\n"
     ]
    }
   ],
   "source": [
    "# This Python 3 environment comes with many helpful analytics libraries installed\n",
    "# It is defined by the kaggle/python Docker image: https://github.com/kaggle/docker-python\n",
    "# For example, here's several helpful packages to load\n",
    "\n",
    "import numpy as np # linear algebra\n",
    "import pandas as pd # data processing, CSV file I/O (e.g. pd.read_csv)\n",
    "\n",
    "# Input data files are available in the read-only \"../input/\" directory\n",
    "# For example, running this (by clicking run or pressing Shift+Enter) will list all files under the input directory\n",
    "\n",
    "import os\n",
    "for dirname, _, filenames in os.walk('/kaggle/input'):\n",
    "    for filename in filenames:\n",
    "        print(os.path.join(dirname, filename))\n",
    "\n",
    "# You can write up to 20GB to the current directory (/kaggle/working/) that gets preserved as output when you create a version using \"Save & Run All\" \n",
    "# You can also write temporary files to /kaggle/temp/, but they won't be saved outside of the current session"
   ]
  },
  {
   "cell_type": "markdown",
   "id": "7cd6aca1",
   "metadata": {
    "papermill": {
     "duration": 0.031834,
     "end_time": "2022-05-29T06:09:02.161946",
     "exception": false,
     "start_time": "2022-05-29T06:09:02.130112",
     "status": "completed"
    },
    "tags": []
   },
   "source": [
    "# There are 10 Questions for EDA in train.csv"
   ]
  },
  {
   "cell_type": "code",
   "execution_count": 2,
   "id": "28466bb8",
   "metadata": {
    "execution": {
     "iopub.execute_input": "2022-05-29T06:09:02.227314Z",
     "iopub.status.busy": "2022-05-29T06:09:02.226996Z",
     "iopub.status.idle": "2022-05-29T06:09:02.298400Z",
     "shell.execute_reply": "2022-05-29T06:09:02.297372Z"
    },
    "papermill": {
     "duration": 0.106848,
     "end_time": "2022-05-29T06:09:02.300716",
     "exception": false,
     "start_time": "2022-05-29T06:09:02.193868",
     "status": "completed"
    },
    "tags": []
   },
   "outputs": [
    {
     "data": {
      "text/html": [
       "<div>\n",
       "<style scoped>\n",
       "    .dataframe tbody tr th:only-of-type {\n",
       "        vertical-align: middle;\n",
       "    }\n",
       "\n",
       "    .dataframe tbody tr th {\n",
       "        vertical-align: top;\n",
       "    }\n",
       "\n",
       "    .dataframe thead th {\n",
       "        text-align: right;\n",
       "    }\n",
       "</style>\n",
       "<table border=\"1\" class=\"dataframe\">\n",
       "  <thead>\n",
       "    <tr style=\"text-align: right;\">\n",
       "      <th></th>\n",
       "      <th>ID</th>\n",
       "      <th>age</th>\n",
       "      <th>job</th>\n",
       "      <th>marital</th>\n",
       "      <th>education</th>\n",
       "      <th>default</th>\n",
       "      <th>balance</th>\n",
       "      <th>housing</th>\n",
       "      <th>loan</th>\n",
       "      <th>contact</th>\n",
       "      <th>day</th>\n",
       "      <th>month</th>\n",
       "      <th>campaign</th>\n",
       "      <th>pdays</th>\n",
       "      <th>previous</th>\n",
       "      <th>poutcome</th>\n",
       "      <th>y</th>\n",
       "    </tr>\n",
       "  </thead>\n",
       "  <tbody>\n",
       "    <tr>\n",
       "      <th>0</th>\n",
       "      <td>13829</td>\n",
       "      <td>29</td>\n",
       "      <td>technician</td>\n",
       "      <td>single</td>\n",
       "      <td>tertiary</td>\n",
       "      <td>no</td>\n",
       "      <td>18254</td>\n",
       "      <td>no</td>\n",
       "      <td>no</td>\n",
       "      <td>cellular</td>\n",
       "      <td>11</td>\n",
       "      <td>may</td>\n",
       "      <td>2</td>\n",
       "      <td>-1</td>\n",
       "      <td>0</td>\n",
       "      <td>unknown</td>\n",
       "      <td>no</td>\n",
       "    </tr>\n",
       "    <tr>\n",
       "      <th>1</th>\n",
       "      <td>22677</td>\n",
       "      <td>26</td>\n",
       "      <td>services</td>\n",
       "      <td>single</td>\n",
       "      <td>secondary</td>\n",
       "      <td>no</td>\n",
       "      <td>512</td>\n",
       "      <td>yes</td>\n",
       "      <td>yes</td>\n",
       "      <td>unknown</td>\n",
       "      <td>5</td>\n",
       "      <td>jun</td>\n",
       "      <td>3</td>\n",
       "      <td>-1</td>\n",
       "      <td>0</td>\n",
       "      <td>unknown</td>\n",
       "      <td>no</td>\n",
       "    </tr>\n",
       "    <tr>\n",
       "      <th>2</th>\n",
       "      <td>10541</td>\n",
       "      <td>30</td>\n",
       "      <td>management</td>\n",
       "      <td>single</td>\n",
       "      <td>secondary</td>\n",
       "      <td>no</td>\n",
       "      <td>135</td>\n",
       "      <td>no</td>\n",
       "      <td>no</td>\n",
       "      <td>cellular</td>\n",
       "      <td>14</td>\n",
       "      <td>aug</td>\n",
       "      <td>2</td>\n",
       "      <td>-1</td>\n",
       "      <td>0</td>\n",
       "      <td>unknown</td>\n",
       "      <td>no</td>\n",
       "    </tr>\n",
       "    <tr>\n",
       "      <th>3</th>\n",
       "      <td>13689</td>\n",
       "      <td>41</td>\n",
       "      <td>technician</td>\n",
       "      <td>married</td>\n",
       "      <td>unknown</td>\n",
       "      <td>no</td>\n",
       "      <td>30</td>\n",
       "      <td>yes</td>\n",
       "      <td>no</td>\n",
       "      <td>cellular</td>\n",
       "      <td>10</td>\n",
       "      <td>jul</td>\n",
       "      <td>1</td>\n",
       "      <td>-1</td>\n",
       "      <td>0</td>\n",
       "      <td>unknown</td>\n",
       "      <td>no</td>\n",
       "    </tr>\n",
       "    <tr>\n",
       "      <th>4</th>\n",
       "      <td>11304</td>\n",
       "      <td>27</td>\n",
       "      <td>admin.</td>\n",
       "      <td>single</td>\n",
       "      <td>secondary</td>\n",
       "      <td>no</td>\n",
       "      <td>321</td>\n",
       "      <td>no</td>\n",
       "      <td>yes</td>\n",
       "      <td>unknown</td>\n",
       "      <td>2</td>\n",
       "      <td>sep</td>\n",
       "      <td>1</td>\n",
       "      <td>-1</td>\n",
       "      <td>0</td>\n",
       "      <td>unknown</td>\n",
       "      <td>no</td>\n",
       "    </tr>\n",
       "  </tbody>\n",
       "</table>\n",
       "</div>"
      ],
      "text/plain": [
       "      ID  age         job  marital  education default  balance housing loan  \\\n",
       "0  13829   29  technician   single   tertiary      no    18254      no   no   \n",
       "1  22677   26    services   single  secondary      no      512     yes  yes   \n",
       "2  10541   30  management   single  secondary      no      135      no   no   \n",
       "3  13689   41  technician  married    unknown      no       30     yes   no   \n",
       "4  11304   27      admin.   single  secondary      no      321      no  yes   \n",
       "\n",
       "    contact  day month  campaign  pdays  previous poutcome   y  \n",
       "0  cellular   11   may         2     -1         0  unknown  no  \n",
       "1   unknown    5   jun         3     -1         0  unknown  no  \n",
       "2  cellular   14   aug         2     -1         0  unknown  no  \n",
       "3  cellular   10   jul         1     -1         0  unknown  no  \n",
       "4   unknown    2   sep         1     -1         0  unknown  no  "
      ]
     },
     "execution_count": 2,
     "metadata": {},
     "output_type": "execute_result"
    }
   ],
   "source": [
    "df = pd.read_csv('/kaggle/input/bank-marketing-response-predict/train.csv')\n",
    "df.head()"
   ]
  },
  {
   "cell_type": "markdown",
   "id": "b3858dc6",
   "metadata": {
    "papermill": {
     "duration": 0.033143,
     "end_time": "2022-05-29T06:09:02.366815",
     "exception": false,
     "start_time": "2022-05-29T06:09:02.333672",
     "status": "completed"
    },
    "tags": []
   },
   "source": [
    "# Question1\n",
    "- 마케팅 응답 고객들의 나이를 10살 단위로 변환 했을 때, 가장 많은 인원을 가진 나이대는? (0-9 : 0 , 10-19 : 10)\n",
    "- Marketing Response When converting the age of customers to a 10-year-old unit, which age group has the largest number of people? (0-9 : 0 , 10-19 : 10)"
   ]
  },
  {
   "cell_type": "code",
   "execution_count": 3,
   "id": "6fb71a78",
   "metadata": {
    "execution": {
     "iopub.execute_input": "2022-05-29T06:09:02.435098Z",
     "iopub.status.busy": "2022-05-29T06:09:02.434794Z",
     "iopub.status.idle": "2022-05-29T06:09:02.457886Z",
     "shell.execute_reply": "2022-05-29T06:09:02.457305Z"
    },
    "papermill": {
     "duration": 0.058877,
     "end_time": "2022-05-29T06:09:02.459696",
     "exception": false,
     "start_time": "2022-05-29T06:09:02.400819",
     "status": "completed"
    },
    "tags": []
   },
   "outputs": [
    {
     "data": {
      "text/html": [
       "<div>\n",
       "<style scoped>\n",
       "    .dataframe tbody tr th:only-of-type {\n",
       "        vertical-align: middle;\n",
       "    }\n",
       "\n",
       "    .dataframe tbody tr th {\n",
       "        vertical-align: top;\n",
       "    }\n",
       "\n",
       "    .dataframe thead th {\n",
       "        text-align: right;\n",
       "    }\n",
       "</style>\n",
       "<table border=\"1\" class=\"dataframe\">\n",
       "  <thead>\n",
       "    <tr style=\"text-align: right;\">\n",
       "      <th></th>\n",
       "      <th>ID</th>\n",
       "      <th>age</th>\n",
       "      <th>job</th>\n",
       "      <th>marital</th>\n",
       "      <th>education</th>\n",
       "      <th>default</th>\n",
       "      <th>balance</th>\n",
       "      <th>housing</th>\n",
       "      <th>loan</th>\n",
       "      <th>contact</th>\n",
       "      <th>day</th>\n",
       "      <th>month</th>\n",
       "      <th>campaign</th>\n",
       "      <th>pdays</th>\n",
       "      <th>previous</th>\n",
       "      <th>poutcome</th>\n",
       "      <th>y</th>\n",
       "      <th>ages</th>\n",
       "    </tr>\n",
       "  </thead>\n",
       "  <tbody>\n",
       "    <tr>\n",
       "      <th>0</th>\n",
       "      <td>13829</td>\n",
       "      <td>29</td>\n",
       "      <td>technician</td>\n",
       "      <td>single</td>\n",
       "      <td>tertiary</td>\n",
       "      <td>no</td>\n",
       "      <td>18254</td>\n",
       "      <td>no</td>\n",
       "      <td>no</td>\n",
       "      <td>cellular</td>\n",
       "      <td>11</td>\n",
       "      <td>may</td>\n",
       "      <td>2</td>\n",
       "      <td>-1</td>\n",
       "      <td>0</td>\n",
       "      <td>unknown</td>\n",
       "      <td>no</td>\n",
       "      <td>20</td>\n",
       "    </tr>\n",
       "    <tr>\n",
       "      <th>1</th>\n",
       "      <td>22677</td>\n",
       "      <td>26</td>\n",
       "      <td>services</td>\n",
       "      <td>single</td>\n",
       "      <td>secondary</td>\n",
       "      <td>no</td>\n",
       "      <td>512</td>\n",
       "      <td>yes</td>\n",
       "      <td>yes</td>\n",
       "      <td>unknown</td>\n",
       "      <td>5</td>\n",
       "      <td>jun</td>\n",
       "      <td>3</td>\n",
       "      <td>-1</td>\n",
       "      <td>0</td>\n",
       "      <td>unknown</td>\n",
       "      <td>no</td>\n",
       "      <td>20</td>\n",
       "    </tr>\n",
       "    <tr>\n",
       "      <th>2</th>\n",
       "      <td>10541</td>\n",
       "      <td>30</td>\n",
       "      <td>management</td>\n",
       "      <td>single</td>\n",
       "      <td>secondary</td>\n",
       "      <td>no</td>\n",
       "      <td>135</td>\n",
       "      <td>no</td>\n",
       "      <td>no</td>\n",
       "      <td>cellular</td>\n",
       "      <td>14</td>\n",
       "      <td>aug</td>\n",
       "      <td>2</td>\n",
       "      <td>-1</td>\n",
       "      <td>0</td>\n",
       "      <td>unknown</td>\n",
       "      <td>no</td>\n",
       "      <td>30</td>\n",
       "    </tr>\n",
       "    <tr>\n",
       "      <th>3</th>\n",
       "      <td>13689</td>\n",
       "      <td>41</td>\n",
       "      <td>technician</td>\n",
       "      <td>married</td>\n",
       "      <td>unknown</td>\n",
       "      <td>no</td>\n",
       "      <td>30</td>\n",
       "      <td>yes</td>\n",
       "      <td>no</td>\n",
       "      <td>cellular</td>\n",
       "      <td>10</td>\n",
       "      <td>jul</td>\n",
       "      <td>1</td>\n",
       "      <td>-1</td>\n",
       "      <td>0</td>\n",
       "      <td>unknown</td>\n",
       "      <td>no</td>\n",
       "      <td>40</td>\n",
       "    </tr>\n",
       "    <tr>\n",
       "      <th>4</th>\n",
       "      <td>11304</td>\n",
       "      <td>27</td>\n",
       "      <td>admin.</td>\n",
       "      <td>single</td>\n",
       "      <td>secondary</td>\n",
       "      <td>no</td>\n",
       "      <td>321</td>\n",
       "      <td>no</td>\n",
       "      <td>yes</td>\n",
       "      <td>unknown</td>\n",
       "      <td>2</td>\n",
       "      <td>sep</td>\n",
       "      <td>1</td>\n",
       "      <td>-1</td>\n",
       "      <td>0</td>\n",
       "      <td>unknown</td>\n",
       "      <td>no</td>\n",
       "      <td>20</td>\n",
       "    </tr>\n",
       "  </tbody>\n",
       "</table>\n",
       "</div>"
      ],
      "text/plain": [
       "      ID  age         job  marital  education default  balance housing loan  \\\n",
       "0  13829   29  technician   single   tertiary      no    18254      no   no   \n",
       "1  22677   26    services   single  secondary      no      512     yes  yes   \n",
       "2  10541   30  management   single  secondary      no      135      no   no   \n",
       "3  13689   41  technician  married    unknown      no       30     yes   no   \n",
       "4  11304   27      admin.   single  secondary      no      321      no  yes   \n",
       "\n",
       "    contact  day month  campaign  pdays  previous poutcome   y  ages  \n",
       "0  cellular   11   may         2     -1         0  unknown  no    20  \n",
       "1   unknown    5   jun         3     -1         0  unknown  no    20  \n",
       "2  cellular   14   aug         2     -1         0  unknown  no    30  \n",
       "3  cellular   10   jul         1     -1         0  unknown  no    40  \n",
       "4   unknown    2   sep         1     -1         0  unknown  no    20  "
      ]
     },
     "execution_count": 3,
     "metadata": {},
     "output_type": "execute_result"
    }
   ],
   "source": [
    "df['ages'] = (df['age'] // 10) * 10\n",
    "df.head()"
   ]
  },
  {
   "cell_type": "code",
   "execution_count": 4,
   "id": "2180d819",
   "metadata": {
    "execution": {
     "iopub.execute_input": "2022-05-29T06:09:02.530466Z",
     "iopub.status.busy": "2022-05-29T06:09:02.529907Z",
     "iopub.status.idle": "2022-05-29T06:09:02.539845Z",
     "shell.execute_reply": "2022-05-29T06:09:02.539026Z"
    },
    "papermill": {
     "duration": 0.046731,
     "end_time": "2022-05-29T06:09:02.541736",
     "exception": false,
     "start_time": "2022-05-29T06:09:02.495005",
     "status": "completed"
    },
    "tags": []
   },
   "outputs": [
    {
     "data": {
      "text/plain": [
       "30"
      ]
     },
     "execution_count": 4,
     "metadata": {},
     "output_type": "execute_result"
    }
   ],
   "source": [
    "df['ages'].value_counts().sort_values().index[-1]"
   ]
  },
  {
   "cell_type": "markdown",
   "id": "f9aed156",
   "metadata": {
    "papermill": {
     "duration": 0.035902,
     "end_time": "2022-05-29T06:09:02.611470",
     "exception": false,
     "start_time": "2022-05-29T06:09:02.575568",
     "status": "completed"
    },
    "tags": []
   },
   "source": [
    "# Question2\n",
    "- 마케팅 응답 고객들의 나이를 10살 단위로 변환 했을 때, 가장 많은 나이대 구간의 인원은 몇명인가?\n",
    "- When converting the age of marketing response customers to a 10-year unit, what is the number of people in the largest age section?"
   ]
  },
  {
   "cell_type": "code",
   "execution_count": 5,
   "id": "97cd2440",
   "metadata": {
    "execution": {
     "iopub.execute_input": "2022-05-29T06:09:02.680956Z",
     "iopub.status.busy": "2022-05-29T06:09:02.680440Z",
     "iopub.status.idle": "2022-05-29T06:09:02.687587Z",
     "shell.execute_reply": "2022-05-29T06:09:02.686645Z"
    },
    "papermill": {
     "duration": 0.043872,
     "end_time": "2022-05-29T06:09:02.689499",
     "exception": false,
     "start_time": "2022-05-29T06:09:02.645627",
     "status": "completed"
    },
    "tags": []
   },
   "outputs": [
    {
     "data": {
      "text/plain": [
       "5056"
      ]
     },
     "execution_count": 5,
     "metadata": {},
     "output_type": "execute_result"
    }
   ],
   "source": [
    "df['ages'].value_counts().sort_values().iloc[-1]"
   ]
  },
  {
   "cell_type": "markdown",
   "id": "d4b17596",
   "metadata": {
    "papermill": {
     "duration": 0.035207,
     "end_time": "2022-05-29T06:09:02.759146",
     "exception": false,
     "start_time": "2022-05-29T06:09:02.723939",
     "status": "completed"
    },
    "tags": []
   },
   "source": [
    "# Question3\n",
    "- 나이가 25살 이상 29살 미만인 응답 고객들중 housing컬럼의 값이 yes인 고객의 수는?\n",
    "- The number of respondents who are greater than or equal to 25 years old and under 29 years old with a value of 'yes' in 'housing' column\n"
   ]
  },
  {
   "cell_type": "code",
   "execution_count": 6,
   "id": "d04427d4",
   "metadata": {
    "execution": {
     "iopub.execute_input": "2022-05-29T06:09:02.830469Z",
     "iopub.status.busy": "2022-05-29T06:09:02.829688Z",
     "iopub.status.idle": "2022-05-29T06:09:02.843147Z",
     "shell.execute_reply": "2022-05-29T06:09:02.842298Z"
    },
    "papermill": {
     "duration": 0.05102,
     "end_time": "2022-05-29T06:09:02.845231",
     "exception": false,
     "start_time": "2022-05-29T06:09:02.794211",
     "status": "completed"
    },
    "tags": []
   },
   "outputs": [
    {
     "data": {
      "text/plain": [
       "504"
      ]
     },
     "execution_count": 6,
     "metadata": {},
     "output_type": "execute_result"
    }
   ],
   "source": [
    "len(df.loc[((df['age'] >= 25) & (df['age'] < 29) & (df['housing'] == 'yes'))])"
   ]
  },
  {
   "cell_type": "markdown",
   "id": "bf285a15",
   "metadata": {
    "papermill": {
     "duration": 0.034304,
     "end_time": "2022-05-29T06:09:02.914295",
     "exception": false,
     "start_time": "2022-05-29T06:09:02.879991",
     "status": "completed"
    },
    "tags": []
   },
   "source": [
    "# Question4\n",
    "- numeric한 값을 가지지 않은 컬럼들중 unique한 값을 가장 많이 가지는 컬럼은?\n",
    "- Which column has the most unique value among columns that do not have numeric values?"
   ]
  },
  {
   "cell_type": "code",
   "execution_count": 7,
   "id": "4e3b4fc8",
   "metadata": {
    "execution": {
     "iopub.execute_input": "2022-05-29T06:09:02.986845Z",
     "iopub.status.busy": "2022-05-29T06:09:02.986585Z",
     "iopub.status.idle": "2022-05-29T06:09:03.007913Z",
     "shell.execute_reply": "2022-05-29T06:09:03.007039Z"
    },
    "papermill": {
     "duration": 0.059351,
     "end_time": "2022-05-29T06:09:03.010008",
     "exception": false,
     "start_time": "2022-05-29T06:09:02.950657",
     "status": "completed"
    },
    "tags": []
   },
   "outputs": [
    {
     "data": {
      "text/html": [
       "<div>\n",
       "<style scoped>\n",
       "    .dataframe tbody tr th:only-of-type {\n",
       "        vertical-align: middle;\n",
       "    }\n",
       "\n",
       "    .dataframe tbody tr th {\n",
       "        vertical-align: top;\n",
       "    }\n",
       "\n",
       "    .dataframe thead th {\n",
       "        text-align: right;\n",
       "    }\n",
       "</style>\n",
       "<table border=\"1\" class=\"dataframe\">\n",
       "  <thead>\n",
       "    <tr style=\"text-align: right;\">\n",
       "      <th></th>\n",
       "      <th>job</th>\n",
       "      <th>marital</th>\n",
       "      <th>education</th>\n",
       "      <th>default</th>\n",
       "      <th>housing</th>\n",
       "      <th>loan</th>\n",
       "      <th>contact</th>\n",
       "      <th>month</th>\n",
       "      <th>poutcome</th>\n",
       "      <th>y</th>\n",
       "    </tr>\n",
       "  </thead>\n",
       "  <tbody>\n",
       "    <tr>\n",
       "      <th>0</th>\n",
       "      <td>technician</td>\n",
       "      <td>single</td>\n",
       "      <td>tertiary</td>\n",
       "      <td>no</td>\n",
       "      <td>no</td>\n",
       "      <td>no</td>\n",
       "      <td>cellular</td>\n",
       "      <td>may</td>\n",
       "      <td>unknown</td>\n",
       "      <td>no</td>\n",
       "    </tr>\n",
       "    <tr>\n",
       "      <th>1</th>\n",
       "      <td>services</td>\n",
       "      <td>single</td>\n",
       "      <td>secondary</td>\n",
       "      <td>no</td>\n",
       "      <td>yes</td>\n",
       "      <td>yes</td>\n",
       "      <td>unknown</td>\n",
       "      <td>jun</td>\n",
       "      <td>unknown</td>\n",
       "      <td>no</td>\n",
       "    </tr>\n",
       "    <tr>\n",
       "      <th>2</th>\n",
       "      <td>management</td>\n",
       "      <td>single</td>\n",
       "      <td>secondary</td>\n",
       "      <td>no</td>\n",
       "      <td>no</td>\n",
       "      <td>no</td>\n",
       "      <td>cellular</td>\n",
       "      <td>aug</td>\n",
       "      <td>unknown</td>\n",
       "      <td>no</td>\n",
       "    </tr>\n",
       "    <tr>\n",
       "      <th>3</th>\n",
       "      <td>technician</td>\n",
       "      <td>married</td>\n",
       "      <td>unknown</td>\n",
       "      <td>no</td>\n",
       "      <td>yes</td>\n",
       "      <td>no</td>\n",
       "      <td>cellular</td>\n",
       "      <td>jul</td>\n",
       "      <td>unknown</td>\n",
       "      <td>no</td>\n",
       "    </tr>\n",
       "    <tr>\n",
       "      <th>4</th>\n",
       "      <td>admin.</td>\n",
       "      <td>single</td>\n",
       "      <td>secondary</td>\n",
       "      <td>no</td>\n",
       "      <td>no</td>\n",
       "      <td>yes</td>\n",
       "      <td>unknown</td>\n",
       "      <td>sep</td>\n",
       "      <td>unknown</td>\n",
       "      <td>no</td>\n",
       "    </tr>\n",
       "  </tbody>\n",
       "</table>\n",
       "</div>"
      ],
      "text/plain": [
       "          job  marital  education default housing loan   contact month  \\\n",
       "0  technician   single   tertiary      no      no   no  cellular   may   \n",
       "1    services   single  secondary      no     yes  yes   unknown   jun   \n",
       "2  management   single  secondary      no      no   no  cellular   aug   \n",
       "3  technician  married    unknown      no     yes   no  cellular   jul   \n",
       "4      admin.   single  secondary      no      no  yes   unknown   sep   \n",
       "\n",
       "  poutcome   y  \n",
       "0  unknown  no  \n",
       "1  unknown  no  \n",
       "2  unknown  no  \n",
       "3  unknown  no  \n",
       "4  unknown  no  "
      ]
     },
     "execution_count": 7,
     "metadata": {},
     "output_type": "execute_result"
    }
   ],
   "source": [
    "df01 = df.select_dtypes(include=object)\n",
    "df01.head()"
   ]
  },
  {
   "cell_type": "code",
   "execution_count": 8,
   "id": "e353ea7c",
   "metadata": {
    "execution": {
     "iopub.execute_input": "2022-05-29T06:09:03.083326Z",
     "iopub.status.busy": "2022-05-29T06:09:03.082978Z",
     "iopub.status.idle": "2022-05-29T06:09:03.102493Z",
     "shell.execute_reply": "2022-05-29T06:09:03.101493Z"
    },
    "papermill": {
     "duration": 0.059415,
     "end_time": "2022-05-29T06:09:03.104765",
     "exception": false,
     "start_time": "2022-05-29T06:09:03.045350",
     "status": "completed"
    },
    "tags": []
   },
   "outputs": [
    {
     "data": {
      "text/plain": [
       "[['job', 12],\n",
       " ['marital', 3],\n",
       " ['education', 4],\n",
       " ['default', 2],\n",
       " ['housing', 2],\n",
       " ['loan', 2],\n",
       " ['contact', 3],\n",
       " ['month', 12],\n",
       " ['poutcome', 4],\n",
       " ['y', 2]]"
      ]
     },
     "execution_count": 8,
     "metadata": {},
     "output_type": "execute_result"
    }
   ],
   "source": [
    "list01 = []\n",
    "for x in df01.columns:\n",
    "    list01.append([x, df01[x].nunique()])\n",
    "\n",
    "list01"
   ]
  },
  {
   "cell_type": "code",
   "execution_count": 9,
   "id": "83df730c",
   "metadata": {
    "execution": {
     "iopub.execute_input": "2022-05-29T06:09:03.180806Z",
     "iopub.status.busy": "2022-05-29T06:09:03.180533Z",
     "iopub.status.idle": "2022-05-29T06:09:03.192041Z",
     "shell.execute_reply": "2022-05-29T06:09:03.191467Z"
    },
    "papermill": {
     "duration": 0.052453,
     "end_time": "2022-05-29T06:09:03.194072",
     "exception": false,
     "start_time": "2022-05-29T06:09:03.141619",
     "status": "completed"
    },
    "tags": []
   },
   "outputs": [
    {
     "data": {
      "text/html": [
       "<div>\n",
       "<style scoped>\n",
       "    .dataframe tbody tr th:only-of-type {\n",
       "        vertical-align: middle;\n",
       "    }\n",
       "\n",
       "    .dataframe tbody tr th {\n",
       "        vertical-align: top;\n",
       "    }\n",
       "\n",
       "    .dataframe thead th {\n",
       "        text-align: right;\n",
       "    }\n",
       "</style>\n",
       "<table border=\"1\" class=\"dataframe\">\n",
       "  <thead>\n",
       "    <tr style=\"text-align: right;\">\n",
       "      <th></th>\n",
       "      <th>name</th>\n",
       "      <th>size</th>\n",
       "    </tr>\n",
       "  </thead>\n",
       "  <tbody>\n",
       "    <tr>\n",
       "      <th>0</th>\n",
       "      <td>job</td>\n",
       "      <td>12</td>\n",
       "    </tr>\n",
       "    <tr>\n",
       "      <th>7</th>\n",
       "      <td>month</td>\n",
       "      <td>12</td>\n",
       "    </tr>\n",
       "  </tbody>\n",
       "</table>\n",
       "</div>"
      ],
      "text/plain": [
       "    name  size\n",
       "0    job    12\n",
       "7  month    12"
      ]
     },
     "execution_count": 9,
     "metadata": {},
     "output_type": "execute_result"
    }
   ],
   "source": [
    "pd.DataFrame(list01, columns=['name', 'size']).sort_values('size', ascending=False).iloc[:2, :]"
   ]
  },
  {
   "cell_type": "markdown",
   "id": "e06c073d",
   "metadata": {
    "papermill": {
     "duration": 0.038083,
     "end_time": "2022-05-29T06:09:03.270296",
     "exception": false,
     "start_time": "2022-05-29T06:09:03.232213",
     "status": "completed"
    },
    "tags": []
   },
   "source": [
    "# Question5\n",
    "- balance 컬럼값들의 평균값 이상을 가지는 데이터를 ID값을 기준으로 내림차순 정렬했을때 상위 100개 데이터의 balance값의 평균은?\n",
    "- What is the average of the balance values of the top 100 data when data having more than the average value of the balance column are sorted in descending order based on the ID value?"
   ]
  },
  {
   "cell_type": "code",
   "execution_count": 10,
   "id": "3994d1d1",
   "metadata": {
    "execution": {
     "iopub.execute_input": "2022-05-29T06:09:03.346773Z",
     "iopub.status.busy": "2022-05-29T06:09:03.346475Z",
     "iopub.status.idle": "2022-05-29T06:09:03.357829Z",
     "shell.execute_reply": "2022-05-29T06:09:03.357064Z"
    },
    "papermill": {
     "duration": 0.050572,
     "end_time": "2022-05-29T06:09:03.359749",
     "exception": false,
     "start_time": "2022-05-29T06:09:03.309177",
     "status": "completed"
    },
    "tags": []
   },
   "outputs": [
    {
     "data": {
      "text/plain": [
       "3473.73"
      ]
     },
     "execution_count": 10,
     "metadata": {},
     "output_type": "execute_result"
    }
   ],
   "source": [
    "df.loc[(df['balance'] > df['balance'].mean())].sort_values('ID', ascending=False).head(100)['balance'].mean()"
   ]
  },
  {
   "cell_type": "markdown",
   "id": "53b4b898",
   "metadata": {
    "papermill": {
     "duration": 0.036381,
     "end_time": "2022-05-29T06:09:03.432473",
     "exception": false,
     "start_time": "2022-05-29T06:09:03.396092",
     "status": "completed"
    },
    "tags": []
   },
   "source": [
    "# Question6\n",
    "- 가장 많은 광고를 집행했던 날짜는 언제인가? (데이터 그대로 일(숫자),달(영문)으로 표기)\n",
    "- When did you run the most ads?"
   ]
  },
  {
   "cell_type": "code",
   "execution_count": 11,
   "id": "4fedb096",
   "metadata": {
    "execution": {
     "iopub.execute_input": "2022-05-29T06:09:03.506758Z",
     "iopub.status.busy": "2022-05-29T06:09:03.506229Z",
     "iopub.status.idle": "2022-05-29T06:09:03.516676Z",
     "shell.execute_reply": "2022-05-29T06:09:03.515908Z"
    },
    "papermill": {
     "duration": 0.049857,
     "end_time": "2022-05-29T06:09:03.518487",
     "exception": false,
     "start_time": "2022-05-29T06:09:03.468630",
     "status": "completed"
    },
    "tags": []
   },
   "outputs": [
    {
     "data": {
      "text/plain": [
       "(15, 'may')"
      ]
     },
     "execution_count": 11,
     "metadata": {},
     "output_type": "execute_result"
    }
   ],
   "source": [
    "df.groupby(['day', 'month']).size().to_frame('ad').sort_values('ad', ascending=False).index[0]"
   ]
  },
  {
   "cell_type": "markdown",
   "id": "bbeb4a56",
   "metadata": {
    "papermill": {
     "duration": 0.037455,
     "end_time": "2022-05-29T06:09:03.592522",
     "exception": false,
     "start_time": "2022-05-29T06:09:03.555067",
     "status": "completed"
    },
    "tags": []
   },
   "source": [
    "# Question7\n",
    "- 데이터의 job이 unknown 상태인 고객들의 age 컬럼 값의 정규성을 검정하고자 한다. 샤피로 검정의 p-value값을 구하여라\n",
    "- It is intended to test the normality of the age column value of customers whose data job is unknown. Find the p-value of the Shapiro test"
   ]
  },
  {
   "cell_type": "code",
   "execution_count": 12,
   "id": "37e2ff1d",
   "metadata": {
    "execution": {
     "iopub.execute_input": "2022-05-29T06:09:03.667782Z",
     "iopub.status.busy": "2022-05-29T06:09:03.667216Z",
     "iopub.status.idle": "2022-05-29T06:09:03.676737Z",
     "shell.execute_reply": "2022-05-29T06:09:03.675903Z"
    },
    "papermill": {
     "duration": 0.049169,
     "end_time": "2022-05-29T06:09:03.678595",
     "exception": false,
     "start_time": "2022-05-29T06:09:03.629426",
     "status": "completed"
    },
    "tags": []
   },
   "outputs": [
    {
     "data": {
      "text/plain": [
       "25     52\n",
       "86     55\n",
       "135    46\n",
       "237    54\n",
       "409    45\n",
       "Name: age, dtype: int64"
      ]
     },
     "execution_count": 12,
     "metadata": {},
     "output_type": "execute_result"
    }
   ],
   "source": [
    "df01 = df.loc[df['job'] == 'unknown']['age']\n",
    "df01.head()"
   ]
  },
  {
   "cell_type": "code",
   "execution_count": 13,
   "id": "c47ecf3d",
   "metadata": {
    "execution": {
     "iopub.execute_input": "2022-05-29T06:09:03.755394Z",
     "iopub.status.busy": "2022-05-29T06:09:03.754862Z",
     "iopub.status.idle": "2022-05-29T06:09:04.680835Z",
     "shell.execute_reply": "2022-05-29T06:09:04.680303Z"
    },
    "papermill": {
     "duration": 0.966723,
     "end_time": "2022-05-29T06:09:04.682749",
     "exception": false,
     "start_time": "2022-05-29T06:09:03.716026",
     "status": "completed"
    },
    "tags": []
   },
   "outputs": [
    {
     "data": {
      "text/plain": [
       "0.1961131989955902"
      ]
     },
     "execution_count": 13,
     "metadata": {},
     "output_type": "execute_result"
    }
   ],
   "source": [
    "from scipy import stats\n",
    "stats.shapiro(df01)[1]"
   ]
  },
  {
   "cell_type": "markdown",
   "id": "691c903e",
   "metadata": {
    "papermill": {
     "duration": 0.038457,
     "end_time": "2022-05-29T06:09:04.760596",
     "exception": false,
     "start_time": "2022-05-29T06:09:04.722139",
     "status": "completed"
    },
    "tags": []
   },
   "source": [
    "# Question8 \n",
    "- age와 balance의 상관계수를 구하여라\n",
    "- Find the correlation coefficient between age and balance columns"
   ]
  },
  {
   "cell_type": "code",
   "execution_count": 14,
   "id": "1683b6ca",
   "metadata": {
    "execution": {
     "iopub.execute_input": "2022-05-29T06:09:04.837136Z",
     "iopub.status.busy": "2022-05-29T06:09:04.836858Z",
     "iopub.status.idle": "2022-05-29T06:09:04.846955Z",
     "shell.execute_reply": "2022-05-29T06:09:04.846416Z"
    },
    "papermill": {
     "duration": 0.050184,
     "end_time": "2022-05-29T06:09:04.848696",
     "exception": false,
     "start_time": "2022-05-29T06:09:04.798512",
     "status": "completed"
    },
    "tags": []
   },
   "outputs": [
    {
     "data": {
      "text/plain": [
       "0.10198734763981462"
      ]
     },
     "execution_count": 14,
     "metadata": {},
     "output_type": "execute_result"
    }
   ],
   "source": [
    "df[['age', 'balance']].corr().iloc[0,1]"
   ]
  },
  {
   "cell_type": "markdown",
   "id": "1b7e0ef4",
   "metadata": {
    "papermill": {
     "duration": 0.038008,
     "end_time": "2022-05-29T06:09:04.925014",
     "exception": false,
     "start_time": "2022-05-29T06:09:04.887006",
     "status": "completed"
    },
    "tags": []
   },
   "source": [
    "# Question9\n",
    "- y 변수와 education 변수는 독립인지 카이제곱검정을 통해 확인하려한다. p-value값을 출력하라\n",
    "- It will check whether the y variable and the education variable are independent through a chi-square test. Print the p-value value"
   ]
  },
  {
   "cell_type": "code",
   "execution_count": 15,
   "id": "c2dd2272",
   "metadata": {
    "execution": {
     "iopub.execute_input": "2022-05-29T06:09:05.003192Z",
     "iopub.status.busy": "2022-05-29T06:09:05.002738Z",
     "iopub.status.idle": "2022-05-29T06:09:05.029003Z",
     "shell.execute_reply": "2022-05-29T06:09:05.028152Z"
    },
    "papermill": {
     "duration": 0.067695,
     "end_time": "2022-05-29T06:09:05.031238",
     "exception": false,
     "start_time": "2022-05-29T06:09:04.963543",
     "status": "completed"
    },
    "tags": []
   },
   "outputs": [
    {
     "data": {
      "text/plain": [
       "7.901201277473551e-29"
      ]
     },
     "execution_count": 15,
     "metadata": {},
     "output_type": "execute_result"
    }
   ],
   "source": [
    "df01 = pd.crosstab(df.y,df.education)\n",
    "import scipy.stats as stats\n",
    "a, b, c, d = stats.chi2_contingency(df01)\n",
    "b"
   ]
  },
  {
   "cell_type": "markdown",
   "id": "c1b4375a",
   "metadata": {
    "papermill": {
     "duration": 0.038886,
     "end_time": "2022-05-29T06:09:05.108874",
     "exception": false,
     "start_time": "2022-05-29T06:09:05.069988",
     "status": "completed"
    },
    "tags": []
   },
   "source": [
    "# Question10\n",
    "- 각 job에 따라 divorced/married 인원의 비율을 확인 했을 때 그 값이 가장 높은 값은?\n",
    "- When checking the proportion of distributed/married people according to each job, what is the highest ratio?"
   ]
  },
  {
   "cell_type": "code",
   "execution_count": 16,
   "id": "9ba4f048",
   "metadata": {
    "execution": {
     "iopub.execute_input": "2022-05-29T06:09:05.187755Z",
     "iopub.status.busy": "2022-05-29T06:09:05.187468Z",
     "iopub.status.idle": "2022-05-29T06:09:05.210734Z",
     "shell.execute_reply": "2022-05-29T06:09:05.209884Z"
    },
    "papermill": {
     "duration": 0.065378,
     "end_time": "2022-05-29T06:09:05.212667",
     "exception": false,
     "start_time": "2022-05-29T06:09:05.147289",
     "status": "completed"
    },
    "tags": []
   },
   "outputs": [
    {
     "data": {
      "text/plain": [
       "0.2831050228310502"
      ]
     },
     "execution_count": 16,
     "metadata": {},
     "output_type": "execute_result"
    }
   ],
   "source": [
    "df00 = df.groupby(['job', 'marital'], as_index=False).size()\n",
    "df01 = df00.loc[(df00['marital'] == 'married')]\n",
    "df02 = df00.loc[(df00['marital'] == 'divorced')]\n",
    "df03 = pd.merge(df01, df02, on='job')\n",
    "df03['ratio'] = df03['size_y'] / df03['size_x']\n",
    "df03.sort_values('ratio')['ratio'].iloc[-1]"
   ]
  },
  {
   "cell_type": "markdown",
   "id": "b51afb19",
   "metadata": {
    "papermill": {
     "duration": 0.038393,
     "end_time": "2022-05-29T06:09:05.290220",
     "exception": false,
     "start_time": "2022-05-29T06:09:05.251827",
     "status": "completed"
    },
    "tags": []
   },
   "source": [
    "# modeling"
   ]
  },
  {
   "cell_type": "code",
   "execution_count": 17,
   "id": "2c72c8e7",
   "metadata": {
    "execution": {
     "iopub.execute_input": "2022-05-29T06:09:05.369334Z",
     "iopub.status.busy": "2022-05-29T06:09:05.368655Z",
     "iopub.status.idle": "2022-05-29T06:09:05.428891Z",
     "shell.execute_reply": "2022-05-29T06:09:05.428292Z"
    },
    "papermill": {
     "duration": 0.102157,
     "end_time": "2022-05-29T06:09:05.431090",
     "exception": false,
     "start_time": "2022-05-29T06:09:05.328933",
     "status": "completed"
    },
    "tags": []
   },
   "outputs": [],
   "source": [
    "train =pd.read_csv('/kaggle/input/bank-marketing-response-predict/train.csv')\n",
    "test =pd.read_csv('/kaggle/input/bank-marketing-response-predict/test.csv')\n",
    "submission =pd.read_csv('/kaggle/input/bank-marketing-response-predict/submission.csv')\n",
    "\n",
    "# predict \"y\" columns, \"yes\" if true, metrics to ROC score"
   ]
  },
  {
   "cell_type": "code",
   "execution_count": 18,
   "id": "8349faae",
   "metadata": {
    "execution": {
     "iopub.execute_input": "2022-05-29T06:09:05.511328Z",
     "iopub.status.busy": "2022-05-29T06:09:05.511029Z",
     "iopub.status.idle": "2022-05-29T06:09:05.546037Z",
     "shell.execute_reply": "2022-05-29T06:09:05.545293Z"
    },
    "papermill": {
     "duration": 0.077413,
     "end_time": "2022-05-29T06:09:05.548097",
     "exception": false,
     "start_time": "2022-05-29T06:09:05.470684",
     "status": "completed"
    },
    "tags": []
   },
   "outputs": [
    {
     "data": {
      "text/html": [
       "<div>\n",
       "<style scoped>\n",
       "    .dataframe tbody tr th:only-of-type {\n",
       "        vertical-align: middle;\n",
       "    }\n",
       "\n",
       "    .dataframe tbody tr th {\n",
       "        vertical-align: top;\n",
       "    }\n",
       "\n",
       "    .dataframe thead th {\n",
       "        text-align: right;\n",
       "    }\n",
       "</style>\n",
       "<table border=\"1\" class=\"dataframe\">\n",
       "  <thead>\n",
       "    <tr style=\"text-align: right;\">\n",
       "      <th></th>\n",
       "      <th>ID</th>\n",
       "      <th>age</th>\n",
       "      <th>job</th>\n",
       "      <th>marital</th>\n",
       "      <th>education</th>\n",
       "      <th>default</th>\n",
       "      <th>balance</th>\n",
       "      <th>housing</th>\n",
       "      <th>loan</th>\n",
       "      <th>contact</th>\n",
       "      <th>day</th>\n",
       "      <th>month</th>\n",
       "      <th>campaign</th>\n",
       "      <th>pdays</th>\n",
       "      <th>previous</th>\n",
       "      <th>poutcome</th>\n",
       "      <th>y</th>\n",
       "    </tr>\n",
       "  </thead>\n",
       "  <tbody>\n",
       "    <tr>\n",
       "      <th>0</th>\n",
       "      <td>13829</td>\n",
       "      <td>29</td>\n",
       "      <td>technician</td>\n",
       "      <td>single</td>\n",
       "      <td>tertiary</td>\n",
       "      <td>no</td>\n",
       "      <td>18254</td>\n",
       "      <td>no</td>\n",
       "      <td>no</td>\n",
       "      <td>cellular</td>\n",
       "      <td>11</td>\n",
       "      <td>may</td>\n",
       "      <td>2</td>\n",
       "      <td>-1</td>\n",
       "      <td>0</td>\n",
       "      <td>unknown</td>\n",
       "      <td>no</td>\n",
       "    </tr>\n",
       "    <tr>\n",
       "      <th>1</th>\n",
       "      <td>22677</td>\n",
       "      <td>26</td>\n",
       "      <td>services</td>\n",
       "      <td>single</td>\n",
       "      <td>secondary</td>\n",
       "      <td>no</td>\n",
       "      <td>512</td>\n",
       "      <td>yes</td>\n",
       "      <td>yes</td>\n",
       "      <td>unknown</td>\n",
       "      <td>5</td>\n",
       "      <td>jun</td>\n",
       "      <td>3</td>\n",
       "      <td>-1</td>\n",
       "      <td>0</td>\n",
       "      <td>unknown</td>\n",
       "      <td>no</td>\n",
       "    </tr>\n",
       "    <tr>\n",
       "      <th>2</th>\n",
       "      <td>10541</td>\n",
       "      <td>30</td>\n",
       "      <td>management</td>\n",
       "      <td>single</td>\n",
       "      <td>secondary</td>\n",
       "      <td>no</td>\n",
       "      <td>135</td>\n",
       "      <td>no</td>\n",
       "      <td>no</td>\n",
       "      <td>cellular</td>\n",
       "      <td>14</td>\n",
       "      <td>aug</td>\n",
       "      <td>2</td>\n",
       "      <td>-1</td>\n",
       "      <td>0</td>\n",
       "      <td>unknown</td>\n",
       "      <td>no</td>\n",
       "    </tr>\n",
       "    <tr>\n",
       "      <th>3</th>\n",
       "      <td>13689</td>\n",
       "      <td>41</td>\n",
       "      <td>technician</td>\n",
       "      <td>married</td>\n",
       "      <td>unknown</td>\n",
       "      <td>no</td>\n",
       "      <td>30</td>\n",
       "      <td>yes</td>\n",
       "      <td>no</td>\n",
       "      <td>cellular</td>\n",
       "      <td>10</td>\n",
       "      <td>jul</td>\n",
       "      <td>1</td>\n",
       "      <td>-1</td>\n",
       "      <td>0</td>\n",
       "      <td>unknown</td>\n",
       "      <td>no</td>\n",
       "    </tr>\n",
       "    <tr>\n",
       "      <th>4</th>\n",
       "      <td>11304</td>\n",
       "      <td>27</td>\n",
       "      <td>admin.</td>\n",
       "      <td>single</td>\n",
       "      <td>secondary</td>\n",
       "      <td>no</td>\n",
       "      <td>321</td>\n",
       "      <td>no</td>\n",
       "      <td>yes</td>\n",
       "      <td>unknown</td>\n",
       "      <td>2</td>\n",
       "      <td>sep</td>\n",
       "      <td>1</td>\n",
       "      <td>-1</td>\n",
       "      <td>0</td>\n",
       "      <td>unknown</td>\n",
       "      <td>no</td>\n",
       "    </tr>\n",
       "  </tbody>\n",
       "</table>\n",
       "</div>"
      ],
      "text/plain": [
       "      ID  age         job  marital  education default  balance housing loan  \\\n",
       "0  13829   29  technician   single   tertiary      no    18254      no   no   \n",
       "1  22677   26    services   single  secondary      no      512     yes  yes   \n",
       "2  10541   30  management   single  secondary      no      135      no   no   \n",
       "3  13689   41  technician  married    unknown      no       30     yes   no   \n",
       "4  11304   27      admin.   single  secondary      no      321      no  yes   \n",
       "\n",
       "    contact  day month  campaign  pdays  previous poutcome   y  \n",
       "0  cellular   11   may         2     -1         0  unknown  no  \n",
       "1   unknown    5   jun         3     -1         0  unknown  no  \n",
       "2  cellular   14   aug         2     -1         0  unknown  no  \n",
       "3  cellular   10   jul         1     -1         0  unknown  no  \n",
       "4   unknown    2   sep         1     -1         0  unknown  no  "
      ]
     },
     "metadata": {},
     "output_type": "display_data"
    },
    {
     "data": {
      "text/html": [
       "<div>\n",
       "<style scoped>\n",
       "    .dataframe tbody tr th:only-of-type {\n",
       "        vertical-align: middle;\n",
       "    }\n",
       "\n",
       "    .dataframe tbody tr th {\n",
       "        vertical-align: top;\n",
       "    }\n",
       "\n",
       "    .dataframe thead th {\n",
       "        text-align: right;\n",
       "    }\n",
       "</style>\n",
       "<table border=\"1\" class=\"dataframe\">\n",
       "  <thead>\n",
       "    <tr style=\"text-align: right;\">\n",
       "      <th></th>\n",
       "      <th>ID</th>\n",
       "      <th>age</th>\n",
       "      <th>job</th>\n",
       "      <th>marital</th>\n",
       "      <th>education</th>\n",
       "      <th>default</th>\n",
       "      <th>balance</th>\n",
       "      <th>housing</th>\n",
       "      <th>loan</th>\n",
       "      <th>contact</th>\n",
       "      <th>day</th>\n",
       "      <th>month</th>\n",
       "      <th>campaign</th>\n",
       "      <th>pdays</th>\n",
       "      <th>previous</th>\n",
       "      <th>poutcome</th>\n",
       "    </tr>\n",
       "  </thead>\n",
       "  <tbody>\n",
       "    <tr>\n",
       "      <th>0</th>\n",
       "      <td>53608</td>\n",
       "      <td>32</td>\n",
       "      <td>management</td>\n",
       "      <td>single</td>\n",
       "      <td>tertiary</td>\n",
       "      <td>no</td>\n",
       "      <td>12569</td>\n",
       "      <td>no</td>\n",
       "      <td>no</td>\n",
       "      <td>cellular</td>\n",
       "      <td>1</td>\n",
       "      <td>jul</td>\n",
       "      <td>2</td>\n",
       "      <td>295</td>\n",
       "      <td>2</td>\n",
       "      <td>success</td>\n",
       "    </tr>\n",
       "    <tr>\n",
       "      <th>1</th>\n",
       "      <td>51055</td>\n",
       "      <td>25</td>\n",
       "      <td>services</td>\n",
       "      <td>single</td>\n",
       "      <td>secondary</td>\n",
       "      <td>no</td>\n",
       "      <td>801</td>\n",
       "      <td>no</td>\n",
       "      <td>no</td>\n",
       "      <td>cellular</td>\n",
       "      <td>5</td>\n",
       "      <td>jun</td>\n",
       "      <td>2</td>\n",
       "      <td>-1</td>\n",
       "      <td>0</td>\n",
       "      <td>unknown</td>\n",
       "    </tr>\n",
       "    <tr>\n",
       "      <th>2</th>\n",
       "      <td>52573</td>\n",
       "      <td>46</td>\n",
       "      <td>blue-collar</td>\n",
       "      <td>married</td>\n",
       "      <td>secondary</td>\n",
       "      <td>no</td>\n",
       "      <td>1728</td>\n",
       "      <td>yes</td>\n",
       "      <td>no</td>\n",
       "      <td>unknown</td>\n",
       "      <td>26</td>\n",
       "      <td>may</td>\n",
       "      <td>2</td>\n",
       "      <td>-1</td>\n",
       "      <td>0</td>\n",
       "      <td>unknown</td>\n",
       "    </tr>\n",
       "    <tr>\n",
       "      <th>3</th>\n",
       "      <td>50458</td>\n",
       "      <td>39</td>\n",
       "      <td>management</td>\n",
       "      <td>divorced</td>\n",
       "      <td>secondary</td>\n",
       "      <td>no</td>\n",
       "      <td>51</td>\n",
       "      <td>no</td>\n",
       "      <td>no</td>\n",
       "      <td>unknown</td>\n",
       "      <td>17</td>\n",
       "      <td>jun</td>\n",
       "      <td>2</td>\n",
       "      <td>-1</td>\n",
       "      <td>0</td>\n",
       "      <td>unknown</td>\n",
       "    </tr>\n",
       "    <tr>\n",
       "      <th>4</th>\n",
       "      <td>52272</td>\n",
       "      <td>31</td>\n",
       "      <td>services</td>\n",
       "      <td>single</td>\n",
       "      <td>tertiary</td>\n",
       "      <td>no</td>\n",
       "      <td>1626</td>\n",
       "      <td>no</td>\n",
       "      <td>no</td>\n",
       "      <td>unknown</td>\n",
       "      <td>31</td>\n",
       "      <td>jul</td>\n",
       "      <td>1</td>\n",
       "      <td>-1</td>\n",
       "      <td>0</td>\n",
       "      <td>unknown</td>\n",
       "    </tr>\n",
       "  </tbody>\n",
       "</table>\n",
       "</div>"
      ],
      "text/plain": [
       "      ID  age          job   marital  education default  balance housing loan  \\\n",
       "0  53608   32   management    single   tertiary      no    12569      no   no   \n",
       "1  51055   25     services    single  secondary      no      801      no   no   \n",
       "2  52573   46  blue-collar   married  secondary      no     1728     yes   no   \n",
       "3  50458   39   management  divorced  secondary      no       51      no   no   \n",
       "4  52272   31     services    single   tertiary      no     1626      no   no   \n",
       "\n",
       "    contact  day month  campaign  pdays  previous poutcome  \n",
       "0  cellular    1   jul         2    295         2  success  \n",
       "1  cellular    5   jun         2     -1         0  unknown  \n",
       "2   unknown   26   may         2     -1         0  unknown  \n",
       "3   unknown   17   jun         2     -1         0  unknown  \n",
       "4   unknown   31   jul         1     -1         0  unknown  "
      ]
     },
     "metadata": {},
     "output_type": "display_data"
    },
    {
     "data": {
      "text/html": [
       "<div>\n",
       "<style scoped>\n",
       "    .dataframe tbody tr th:only-of-type {\n",
       "        vertical-align: middle;\n",
       "    }\n",
       "\n",
       "    .dataframe tbody tr th {\n",
       "        vertical-align: top;\n",
       "    }\n",
       "\n",
       "    .dataframe thead th {\n",
       "        text-align: right;\n",
       "    }\n",
       "</style>\n",
       "<table border=\"1\" class=\"dataframe\">\n",
       "  <thead>\n",
       "    <tr style=\"text-align: right;\">\n",
       "      <th></th>\n",
       "      <th>ID</th>\n",
       "      <th>predict</th>\n",
       "    </tr>\n",
       "  </thead>\n",
       "  <tbody>\n",
       "    <tr>\n",
       "      <th>0</th>\n",
       "      <td>53608</td>\n",
       "      <td>0.0</td>\n",
       "    </tr>\n",
       "    <tr>\n",
       "      <th>1</th>\n",
       "      <td>51055</td>\n",
       "      <td>0.0</td>\n",
       "    </tr>\n",
       "    <tr>\n",
       "      <th>2</th>\n",
       "      <td>52573</td>\n",
       "      <td>0.0</td>\n",
       "    </tr>\n",
       "    <tr>\n",
       "      <th>3</th>\n",
       "      <td>50458</td>\n",
       "      <td>0.0</td>\n",
       "    </tr>\n",
       "    <tr>\n",
       "      <th>4</th>\n",
       "      <td>52272</td>\n",
       "      <td>0.0</td>\n",
       "    </tr>\n",
       "  </tbody>\n",
       "</table>\n",
       "</div>"
      ],
      "text/plain": [
       "      ID  predict\n",
       "0  53608      0.0\n",
       "1  51055      0.0\n",
       "2  52573      0.0\n",
       "3  50458      0.0\n",
       "4  52272      0.0"
      ]
     },
     "metadata": {},
     "output_type": "display_data"
    }
   ],
   "source": [
    "display(train.head())\n",
    "display(test.head())\n",
    "display(submission.head())"
   ]
  },
  {
   "cell_type": "code",
   "execution_count": 19,
   "id": "fcf23a65",
   "metadata": {
    "execution": {
     "iopub.execute_input": "2022-05-29T06:09:05.632874Z",
     "iopub.status.busy": "2022-05-29T06:09:05.632593Z",
     "iopub.status.idle": "2022-05-29T06:09:05.688076Z",
     "shell.execute_reply": "2022-05-29T06:09:05.687152Z"
    },
    "papermill": {
     "duration": 0.10058,
     "end_time": "2022-05-29T06:09:05.690006",
     "exception": false,
     "start_time": "2022-05-29T06:09:05.589426",
     "status": "completed"
    },
    "tags": []
   },
   "outputs": [
    {
     "name": "stdout",
     "output_type": "stream",
     "text": [
      "<class 'pandas.core.frame.DataFrame'>\n",
      "RangeIndex: 12870 entries, 0 to 12869\n",
      "Data columns (total 17 columns):\n",
      " #   Column     Non-Null Count  Dtype \n",
      "---  ------     --------------  ----- \n",
      " 0   ID         12870 non-null  int64 \n",
      " 1   age        12870 non-null  int64 \n",
      " 2   job        12870 non-null  object\n",
      " 3   marital    12870 non-null  object\n",
      " 4   education  12870 non-null  object\n",
      " 5   default    12870 non-null  object\n",
      " 6   balance    12870 non-null  int64 \n",
      " 7   housing    12870 non-null  object\n",
      " 8   loan       12870 non-null  object\n",
      " 9   contact    12870 non-null  object\n",
      " 10  day        12870 non-null  int64 \n",
      " 11  month      12870 non-null  object\n",
      " 12  campaign   12870 non-null  int64 \n",
      " 13  pdays      12870 non-null  int64 \n",
      " 14  previous   12870 non-null  int64 \n",
      " 15  poutcome   12870 non-null  object\n",
      " 16  y          12870 non-null  object\n",
      "dtypes: int64(7), object(10)\n",
      "memory usage: 1.7+ MB\n"
     ]
    },
    {
     "data": {
      "text/plain": [
       "None"
      ]
     },
     "metadata": {},
     "output_type": "display_data"
    },
    {
     "name": "stdout",
     "output_type": "stream",
     "text": [
      "<class 'pandas.core.frame.DataFrame'>\n",
      "RangeIndex: 4291 entries, 0 to 4290\n",
      "Data columns (total 16 columns):\n",
      " #   Column     Non-Null Count  Dtype \n",
      "---  ------     --------------  ----- \n",
      " 0   ID         4291 non-null   int64 \n",
      " 1   age        4291 non-null   int64 \n",
      " 2   job        4291 non-null   object\n",
      " 3   marital    4291 non-null   object\n",
      " 4   education  4291 non-null   object\n",
      " 5   default    4291 non-null   object\n",
      " 6   balance    4291 non-null   int64 \n",
      " 7   housing    4291 non-null   object\n",
      " 8   loan       4291 non-null   object\n",
      " 9   contact    4291 non-null   object\n",
      " 10  day        4291 non-null   int64 \n",
      " 11  month      4291 non-null   object\n",
      " 12  campaign   4291 non-null   int64 \n",
      " 13  pdays      4291 non-null   int64 \n",
      " 14  previous   4291 non-null   int64 \n",
      " 15  poutcome   4291 non-null   object\n",
      "dtypes: int64(7), object(9)\n",
      "memory usage: 536.5+ KB\n"
     ]
    },
    {
     "data": {
      "text/plain": [
       "None"
      ]
     },
     "metadata": {},
     "output_type": "display_data"
    },
    {
     "name": "stdout",
     "output_type": "stream",
     "text": [
      "<class 'pandas.core.frame.DataFrame'>\n",
      "RangeIndex: 4291 entries, 0 to 4290\n",
      "Data columns (total 2 columns):\n",
      " #   Column   Non-Null Count  Dtype  \n",
      "---  ------   --------------  -----  \n",
      " 0   ID       4291 non-null   int64  \n",
      " 1   predict  4291 non-null   float64\n",
      "dtypes: float64(1), int64(1)\n",
      "memory usage: 67.2 KB\n"
     ]
    },
    {
     "data": {
      "text/plain": [
       "None"
      ]
     },
     "metadata": {},
     "output_type": "display_data"
    }
   ],
   "source": [
    "display(train.info())\n",
    "display(test.info())\n",
    "display(submission.info())"
   ]
  },
  {
   "cell_type": "code",
   "execution_count": 20,
   "id": "2f6c8c84",
   "metadata": {
    "execution": {
     "iopub.execute_input": "2022-05-29T06:09:05.779447Z",
     "iopub.status.busy": "2022-05-29T06:09:05.778920Z",
     "iopub.status.idle": "2022-05-29T06:09:06.031267Z",
     "shell.execute_reply": "2022-05-29T06:09:06.030597Z"
    },
    "papermill": {
     "duration": 0.299564,
     "end_time": "2022-05-29T06:09:06.033426",
     "exception": false,
     "start_time": "2022-05-29T06:09:05.733862",
     "status": "completed"
    },
    "tags": []
   },
   "outputs": [],
   "source": [
    "from sklearn.model_selection import train_test_split\n",
    "x = train.drop(columns =['ID', 'y'])\n",
    "x_dummies = pd.get_dummies(x)\n",
    "y = train['y']\n",
    "x_train, x_test, y_train, y_test = train_test_split(x_dummies, y, stratify=y, random_state=10)"
   ]
  },
  {
   "cell_type": "code",
   "execution_count": 21,
   "id": "00c560a4",
   "metadata": {
    "execution": {
     "iopub.execute_input": "2022-05-29T06:09:06.126245Z",
     "iopub.status.busy": "2022-05-29T06:09:06.125758Z",
     "iopub.status.idle": "2022-05-29T06:09:07.758552Z",
     "shell.execute_reply": "2022-05-29T06:09:07.757919Z"
    },
    "papermill": {
     "duration": 1.681116,
     "end_time": "2022-05-29T06:09:07.760689",
     "exception": false,
     "start_time": "2022-05-29T06:09:06.079573",
     "status": "completed"
    },
    "tags": []
   },
   "outputs": [],
   "source": [
    "from sklearn.ensemble import RandomForestClassifier\n",
    "rf = RandomForestClassifier()\n",
    "rf.fit(x_train, y_train)\n",
    "prediction = rf.predict_proba(x_test)"
   ]
  },
  {
   "cell_type": "code",
   "execution_count": 22,
   "id": "4c9533fb",
   "metadata": {
    "execution": {
     "iopub.execute_input": "2022-05-29T06:09:07.850797Z",
     "iopub.status.busy": "2022-05-29T06:09:07.850311Z",
     "iopub.status.idle": "2022-05-29T06:09:07.865187Z",
     "shell.execute_reply": "2022-05-29T06:09:07.864589Z"
    },
    "papermill": {
     "duration": 0.06239,
     "end_time": "2022-05-29T06:09:07.867190",
     "exception": false,
     "start_time": "2022-05-29T06:09:07.804800",
     "status": "completed"
    },
    "tags": []
   },
   "outputs": [
    {
     "data": {
      "text/plain": [
       "0.7930218477378779"
      ]
     },
     "execution_count": 22,
     "metadata": {},
     "output_type": "execute_result"
    }
   ],
   "source": [
    "from sklearn.metrics import roc_auc_score\n",
    "roc_auc_score(y_test, prediction[:,1])"
   ]
  },
  {
   "cell_type": "code",
   "execution_count": 23,
   "id": "c21066f6",
   "metadata": {
    "execution": {
     "iopub.execute_input": "2022-05-29T06:09:07.957108Z",
     "iopub.status.busy": "2022-05-29T06:09:07.956608Z",
     "iopub.status.idle": "2022-05-29T06:09:08.109976Z",
     "shell.execute_reply": "2022-05-29T06:09:08.109167Z"
    },
    "papermill": {
     "duration": 0.200611,
     "end_time": "2022-05-29T06:09:08.112113",
     "exception": false,
     "start_time": "2022-05-29T06:09:07.911502",
     "status": "completed"
    },
    "tags": []
   },
   "outputs": [
    {
     "data": {
      "text/html": [
       "<div>\n",
       "<style scoped>\n",
       "    .dataframe tbody tr th:only-of-type {\n",
       "        vertical-align: middle;\n",
       "    }\n",
       "\n",
       "    .dataframe tbody tr th {\n",
       "        vertical-align: top;\n",
       "    }\n",
       "\n",
       "    .dataframe thead th {\n",
       "        text-align: right;\n",
       "    }\n",
       "</style>\n",
       "<table border=\"1\" class=\"dataframe\">\n",
       "  <thead>\n",
       "    <tr style=\"text-align: right;\">\n",
       "      <th></th>\n",
       "      <th>ID</th>\n",
       "      <th>predict</th>\n",
       "    </tr>\n",
       "  </thead>\n",
       "  <tbody>\n",
       "    <tr>\n",
       "      <th>0</th>\n",
       "      <td>53608</td>\n",
       "      <td>0.78</td>\n",
       "    </tr>\n",
       "    <tr>\n",
       "      <th>1</th>\n",
       "      <td>51055</td>\n",
       "      <td>0.90</td>\n",
       "    </tr>\n",
       "    <tr>\n",
       "      <th>2</th>\n",
       "      <td>52573</td>\n",
       "      <td>0.03</td>\n",
       "    </tr>\n",
       "    <tr>\n",
       "      <th>3</th>\n",
       "      <td>50458</td>\n",
       "      <td>0.08</td>\n",
       "    </tr>\n",
       "    <tr>\n",
       "      <th>4</th>\n",
       "      <td>52272</td>\n",
       "      <td>0.22</td>\n",
       "    </tr>\n",
       "  </tbody>\n",
       "</table>\n",
       "</div>"
      ],
      "text/plain": [
       "      ID  predict\n",
       "0  53608     0.78\n",
       "1  51055     0.90\n",
       "2  52573     0.03\n",
       "3  50458     0.08\n",
       "4  52272     0.22"
      ]
     },
     "execution_count": 23,
     "metadata": {},
     "output_type": "execute_result"
    }
   ],
   "source": [
    "test_prediction = rf.predict_proba(pd.get_dummies(test.drop(columns=['ID'])))\n",
    "submission['predict'] = test_prediction[:,1]\n",
    "submission.head()"
   ]
  },
  {
   "cell_type": "code",
   "execution_count": 24,
   "id": "e5c8c445",
   "metadata": {
    "execution": {
     "iopub.execute_input": "2022-05-29T06:09:08.204015Z",
     "iopub.status.busy": "2022-05-29T06:09:08.203714Z",
     "iopub.status.idle": "2022-05-29T06:09:08.219974Z",
     "shell.execute_reply": "2022-05-29T06:09:08.219387Z"
    },
    "papermill": {
     "duration": 0.064275,
     "end_time": "2022-05-29T06:09:08.222062",
     "exception": false,
     "start_time": "2022-05-29T06:09:08.157787",
     "status": "completed"
    },
    "tags": []
   },
   "outputs": [],
   "source": [
    "submission.to_csv('test.csv', index=False)"
   ]
  }
 ],
 "metadata": {
  "kernelspec": {
   "display_name": "Python 3",
   "language": "python",
   "name": "python3"
  },
  "language_info": {
   "codemirror_mode": {
    "name": "ipython",
    "version": 3
   },
   "file_extension": ".py",
   "mimetype": "text/x-python",
   "name": "python",
   "nbconvert_exporter": "python",
   "pygments_lexer": "ipython3",
   "version": "3.7.12"
  },
  "papermill": {
   "default_parameters": {},
   "duration": 17.031929,
   "end_time": "2022-05-29T06:09:08.988719",
   "environment_variables": {},
   "exception": null,
   "input_path": "__notebook__.ipynb",
   "output_path": "__notebook__.ipynb",
   "parameters": {},
   "start_time": "2022-05-29T06:08:51.956790",
   "version": "2.3.4"
  }
 },
 "nbformat": 4,
 "nbformat_minor": 5
}
